{
 "cells": [
  {
   "cell_type": "code",
   "execution_count": 1,
   "metadata": {
    "colab": {},
    "colab_type": "code",
    "id": "zefX_-cQE3Q8"
   },
   "outputs": [],
   "source": [
    "import numpy\n",
    "import pandas\n",
    "from tensorflow.keras.models import Sequential\n",
    "from tensorflow.keras.layers import Dense\n",
    "from tensorflow.keras.wrappers.scikit_learn import KerasClassifier\n",
    "from sklearn.model_selection import cross_val_score\n",
    "from sklearn.preprocessing import LabelEncoder\n",
    "from sklearn.model_selection import StratifiedKFold\n",
    "from sklearn.preprocessing import StandardScaler\n",
    "from sklearn.pipeline import Pipeline\n"
   ]
  },
  {
   "cell_type": "code",
   "execution_count": 2,
   "metadata": {
    "colab": {},
    "colab_type": "code",
    "id": "shsCHO2SE3RI"
   },
   "outputs": [],
   "source": [
    "# fix random seed for reproducibility\n",
    "seed = 7\n",
    "numpy.random.seed(seed)\n"
   ]
  },
  {
   "cell_type": "code",
   "execution_count": 3,
   "metadata": {
    "colab": {},
    "colab_type": "code",
    "id": "E3vqPoHUE3RL"
   },
   "outputs": [],
   "source": [
    "# load dataset\n",
    "dataframe = pandas.read_csv(\"sonar.csv\", header=None)\n",
    "dataset = dataframe.values\n",
    "# split into input (X) and output (Y) variables\n",
    "X = dataset[:,0:60].astype(float)\n",
    "Y = dataset[:,60]\n"
   ]
  },
  {
   "cell_type": "code",
   "execution_count": 4,
   "metadata": {
    "colab": {},
    "colab_type": "code",
    "id": "N2vSwkMQxtvQ"
   },
   "outputs": [],
   "source": [
    "encoder = LabelEncoder()\n",
    "encoder.fit(Y)\n",
    "encoded_Y = encoder.transform(Y)"
   ]
  },
  {
   "cell_type": "code",
   "execution_count": 40,
   "metadata": {
    "colab": {},
    "colab_type": "code",
    "id": "-RyVTryzE3RO"
   },
   "outputs": [],
   "source": [
    "# baseline model\n",
    "def create_baseline():\n",
    "# create model, write code below\n",
    "    model = Sequential()\n",
    "    model.add(Dense(60, input_dim=60, activation='relu'))\n",
    "    model.add(Dense(1, activation='sigmoid'))\n",
    "    # Compile model, write code below\n",
    "    model.compile(loss='binary_crossentropy', optimizer='adam', metrics=['accuracy'])\n",
    "    # Compile model, write code below\n",
    "    return model\n"
   ]
  },
  {
   "cell_type": "code",
   "execution_count": 39,
   "metadata": {
    "colab": {
     "base_uri": "https://localhost:8080/",
     "height": 34
    },
    "colab_type": "code",
    "id": "C1Yrxm2aE3RR",
    "outputId": "c1fd4d96-a3a4-4ae5-e6fd-1a4a088fa3f1"
   },
   "outputs": [
    {
     "name": "stderr",
     "output_type": "stream",
     "text": [
      "C:\\Users\\MYKIM\\Anaconda3\\lib\\site-packages\\sklearn\\model_selection\\_validation.py:542: FutureWarning: From version 0.22, errors during fit will result in a cross validation score of NaN by default. Use error_score='raise' if you want an exception raised or error_score=np.nan to adopt the behavior from version 0.22.\n",
      "  FutureWarning)\n"
     ]
    },
    {
     "ename": "ValueError",
     "evalue": "Unknown activation function:Rectifier",
     "output_type": "error",
     "traceback": [
      "\u001b[1;31m---------------------------------------------------------------------------\u001b[0m",
      "\u001b[1;31mValueError\u001b[0m                                Traceback (most recent call last)",
      "\u001b[1;32m<ipython-input-39-3ddfde196c96>\u001b[0m in \u001b[0;36m<module>\u001b[1;34m\u001b[0m\n\u001b[0;32m      2\u001b[0m \u001b[0mestimator\u001b[0m \u001b[1;33m=\u001b[0m \u001b[0mKerasClassifier\u001b[0m\u001b[1;33m(\u001b[0m\u001b[0mbuild_fn\u001b[0m\u001b[1;33m=\u001b[0m\u001b[0mcreate_baseline\u001b[0m\u001b[1;33m,\u001b[0m \u001b[0mepochs\u001b[0m\u001b[1;33m=\u001b[0m\u001b[1;36m100\u001b[0m\u001b[1;33m,\u001b[0m \u001b[0mbatch_size\u001b[0m\u001b[1;33m=\u001b[0m\u001b[1;36m5\u001b[0m\u001b[1;33m,\u001b[0m \u001b[0mverbose\u001b[0m\u001b[1;33m=\u001b[0m\u001b[1;36m0\u001b[0m\u001b[1;33m)\u001b[0m\u001b[1;33m\u001b[0m\u001b[1;33m\u001b[0m\u001b[0m\n\u001b[0;32m      3\u001b[0m \u001b[0mkfold\u001b[0m \u001b[1;33m=\u001b[0m \u001b[0mStratifiedKFold\u001b[0m\u001b[1;33m(\u001b[0m\u001b[0mn_splits\u001b[0m\u001b[1;33m=\u001b[0m\u001b[1;36m10\u001b[0m\u001b[1;33m,\u001b[0m \u001b[0mshuffle\u001b[0m\u001b[1;33m=\u001b[0m\u001b[1;32mTrue\u001b[0m\u001b[1;33m,\u001b[0m \u001b[0mrandom_state\u001b[0m\u001b[1;33m=\u001b[0m\u001b[0mseed\u001b[0m\u001b[1;33m)\u001b[0m\u001b[1;33m\u001b[0m\u001b[1;33m\u001b[0m\u001b[0m\n\u001b[1;32m----> 4\u001b[1;33m \u001b[0mresults\u001b[0m \u001b[1;33m=\u001b[0m \u001b[0mcross_val_score\u001b[0m\u001b[1;33m(\u001b[0m\u001b[0mestimator\u001b[0m\u001b[1;33m,\u001b[0m \u001b[0mX\u001b[0m\u001b[1;33m,\u001b[0m\u001b[0mencoded_Y\u001b[0m\u001b[1;33m,\u001b[0m \u001b[0mcv\u001b[0m\u001b[1;33m=\u001b[0m\u001b[0mkfold\u001b[0m\u001b[1;33m)\u001b[0m\u001b[1;33m\u001b[0m\u001b[1;33m\u001b[0m\u001b[0m\n\u001b[0m\u001b[0;32m      5\u001b[0m \u001b[0mprint\u001b[0m\u001b[1;33m(\u001b[0m\u001b[1;34m\"Results: %.2f%% (%.2f%%)\"\u001b[0m \u001b[1;33m%\u001b[0m \u001b[1;33m(\u001b[0m\u001b[0mresults\u001b[0m\u001b[1;33m.\u001b[0m\u001b[0mmean\u001b[0m\u001b[1;33m(\u001b[0m\u001b[1;33m)\u001b[0m\u001b[1;33m*\u001b[0m\u001b[1;36m100\u001b[0m\u001b[1;33m,\u001b[0m \u001b[0mresults\u001b[0m\u001b[1;33m.\u001b[0m\u001b[0mstd\u001b[0m\u001b[1;33m(\u001b[0m\u001b[1;33m)\u001b[0m\u001b[1;33m*\u001b[0m\u001b[1;36m100\u001b[0m\u001b[1;33m)\u001b[0m\u001b[1;33m)\u001b[0m\u001b[1;33m\u001b[0m\u001b[1;33m\u001b[0m\u001b[0m\n\u001b[0;32m      6\u001b[0m \u001b[1;33m\u001b[0m\u001b[0m\n",
      "\u001b[1;32m~\\Anaconda3\\lib\\site-packages\\sklearn\\model_selection\\_validation.py\u001b[0m in \u001b[0;36mcross_val_score\u001b[1;34m(estimator, X, y, groups, scoring, cv, n_jobs, verbose, fit_params, pre_dispatch, error_score)\u001b[0m\n\u001b[0;32m    400\u001b[0m                                 \u001b[0mfit_params\u001b[0m\u001b[1;33m=\u001b[0m\u001b[0mfit_params\u001b[0m\u001b[1;33m,\u001b[0m\u001b[1;33m\u001b[0m\u001b[1;33m\u001b[0m\u001b[0m\n\u001b[0;32m    401\u001b[0m                                 \u001b[0mpre_dispatch\u001b[0m\u001b[1;33m=\u001b[0m\u001b[0mpre_dispatch\u001b[0m\u001b[1;33m,\u001b[0m\u001b[1;33m\u001b[0m\u001b[1;33m\u001b[0m\u001b[0m\n\u001b[1;32m--> 402\u001b[1;33m                                 error_score=error_score)\n\u001b[0m\u001b[0;32m    403\u001b[0m     \u001b[1;32mreturn\u001b[0m \u001b[0mcv_results\u001b[0m\u001b[1;33m[\u001b[0m\u001b[1;34m'test_score'\u001b[0m\u001b[1;33m]\u001b[0m\u001b[1;33m\u001b[0m\u001b[1;33m\u001b[0m\u001b[0m\n\u001b[0;32m    404\u001b[0m \u001b[1;33m\u001b[0m\u001b[0m\n",
      "\u001b[1;32m~\\Anaconda3\\lib\\site-packages\\sklearn\\model_selection\\_validation.py\u001b[0m in \u001b[0;36mcross_validate\u001b[1;34m(estimator, X, y, groups, scoring, cv, n_jobs, verbose, fit_params, pre_dispatch, return_train_score, return_estimator, error_score)\u001b[0m\n\u001b[0;32m    238\u001b[0m             \u001b[0mreturn_times\u001b[0m\u001b[1;33m=\u001b[0m\u001b[1;32mTrue\u001b[0m\u001b[1;33m,\u001b[0m \u001b[0mreturn_estimator\u001b[0m\u001b[1;33m=\u001b[0m\u001b[0mreturn_estimator\u001b[0m\u001b[1;33m,\u001b[0m\u001b[1;33m\u001b[0m\u001b[1;33m\u001b[0m\u001b[0m\n\u001b[0;32m    239\u001b[0m             error_score=error_score)\n\u001b[1;32m--> 240\u001b[1;33m         for train, test in cv.split(X, y, groups))\n\u001b[0m\u001b[0;32m    241\u001b[0m \u001b[1;33m\u001b[0m\u001b[0m\n\u001b[0;32m    242\u001b[0m     \u001b[0mzipped_scores\u001b[0m \u001b[1;33m=\u001b[0m \u001b[0mlist\u001b[0m\u001b[1;33m(\u001b[0m\u001b[0mzip\u001b[0m\u001b[1;33m(\u001b[0m\u001b[1;33m*\u001b[0m\u001b[0mscores\u001b[0m\u001b[1;33m)\u001b[0m\u001b[1;33m)\u001b[0m\u001b[1;33m\u001b[0m\u001b[1;33m\u001b[0m\u001b[0m\n",
      "\u001b[1;32m~\\Anaconda3\\lib\\site-packages\\sklearn\\externals\\joblib\\parallel.py\u001b[0m in \u001b[0;36m__call__\u001b[1;34m(self, iterable)\u001b[0m\n\u001b[0;32m    915\u001b[0m             \u001b[1;31m# remaining jobs.\u001b[0m\u001b[1;33m\u001b[0m\u001b[1;33m\u001b[0m\u001b[1;33m\u001b[0m\u001b[0m\n\u001b[0;32m    916\u001b[0m             \u001b[0mself\u001b[0m\u001b[1;33m.\u001b[0m\u001b[0m_iterating\u001b[0m \u001b[1;33m=\u001b[0m \u001b[1;32mFalse\u001b[0m\u001b[1;33m\u001b[0m\u001b[1;33m\u001b[0m\u001b[0m\n\u001b[1;32m--> 917\u001b[1;33m             \u001b[1;32mif\u001b[0m \u001b[0mself\u001b[0m\u001b[1;33m.\u001b[0m\u001b[0mdispatch_one_batch\u001b[0m\u001b[1;33m(\u001b[0m\u001b[0miterator\u001b[0m\u001b[1;33m)\u001b[0m\u001b[1;33m:\u001b[0m\u001b[1;33m\u001b[0m\u001b[1;33m\u001b[0m\u001b[0m\n\u001b[0m\u001b[0;32m    918\u001b[0m                 \u001b[0mself\u001b[0m\u001b[1;33m.\u001b[0m\u001b[0m_iterating\u001b[0m \u001b[1;33m=\u001b[0m \u001b[0mself\u001b[0m\u001b[1;33m.\u001b[0m\u001b[0m_original_iterator\u001b[0m \u001b[1;32mis\u001b[0m \u001b[1;32mnot\u001b[0m \u001b[1;32mNone\u001b[0m\u001b[1;33m\u001b[0m\u001b[1;33m\u001b[0m\u001b[0m\n\u001b[0;32m    919\u001b[0m \u001b[1;33m\u001b[0m\u001b[0m\n",
      "\u001b[1;32m~\\Anaconda3\\lib\\site-packages\\sklearn\\externals\\joblib\\parallel.py\u001b[0m in \u001b[0;36mdispatch_one_batch\u001b[1;34m(self, iterator)\u001b[0m\n\u001b[0;32m    757\u001b[0m                 \u001b[1;32mreturn\u001b[0m \u001b[1;32mFalse\u001b[0m\u001b[1;33m\u001b[0m\u001b[1;33m\u001b[0m\u001b[0m\n\u001b[0;32m    758\u001b[0m             \u001b[1;32melse\u001b[0m\u001b[1;33m:\u001b[0m\u001b[1;33m\u001b[0m\u001b[1;33m\u001b[0m\u001b[0m\n\u001b[1;32m--> 759\u001b[1;33m                 \u001b[0mself\u001b[0m\u001b[1;33m.\u001b[0m\u001b[0m_dispatch\u001b[0m\u001b[1;33m(\u001b[0m\u001b[0mtasks\u001b[0m\u001b[1;33m)\u001b[0m\u001b[1;33m\u001b[0m\u001b[1;33m\u001b[0m\u001b[0m\n\u001b[0m\u001b[0;32m    760\u001b[0m                 \u001b[1;32mreturn\u001b[0m \u001b[1;32mTrue\u001b[0m\u001b[1;33m\u001b[0m\u001b[1;33m\u001b[0m\u001b[0m\n\u001b[0;32m    761\u001b[0m \u001b[1;33m\u001b[0m\u001b[0m\n",
      "\u001b[1;32m~\\Anaconda3\\lib\\site-packages\\sklearn\\externals\\joblib\\parallel.py\u001b[0m in \u001b[0;36m_dispatch\u001b[1;34m(self, batch)\u001b[0m\n\u001b[0;32m    714\u001b[0m         \u001b[1;32mwith\u001b[0m \u001b[0mself\u001b[0m\u001b[1;33m.\u001b[0m\u001b[0m_lock\u001b[0m\u001b[1;33m:\u001b[0m\u001b[1;33m\u001b[0m\u001b[1;33m\u001b[0m\u001b[0m\n\u001b[0;32m    715\u001b[0m             \u001b[0mjob_idx\u001b[0m \u001b[1;33m=\u001b[0m \u001b[0mlen\u001b[0m\u001b[1;33m(\u001b[0m\u001b[0mself\u001b[0m\u001b[1;33m.\u001b[0m\u001b[0m_jobs\u001b[0m\u001b[1;33m)\u001b[0m\u001b[1;33m\u001b[0m\u001b[1;33m\u001b[0m\u001b[0m\n\u001b[1;32m--> 716\u001b[1;33m             \u001b[0mjob\u001b[0m \u001b[1;33m=\u001b[0m \u001b[0mself\u001b[0m\u001b[1;33m.\u001b[0m\u001b[0m_backend\u001b[0m\u001b[1;33m.\u001b[0m\u001b[0mapply_async\u001b[0m\u001b[1;33m(\u001b[0m\u001b[0mbatch\u001b[0m\u001b[1;33m,\u001b[0m \u001b[0mcallback\u001b[0m\u001b[1;33m=\u001b[0m\u001b[0mcb\u001b[0m\u001b[1;33m)\u001b[0m\u001b[1;33m\u001b[0m\u001b[1;33m\u001b[0m\u001b[0m\n\u001b[0m\u001b[0;32m    717\u001b[0m             \u001b[1;31m# A job can complete so quickly than its callback is\u001b[0m\u001b[1;33m\u001b[0m\u001b[1;33m\u001b[0m\u001b[1;33m\u001b[0m\u001b[0m\n\u001b[0;32m    718\u001b[0m             \u001b[1;31m# called before we get here, causing self._jobs to\u001b[0m\u001b[1;33m\u001b[0m\u001b[1;33m\u001b[0m\u001b[1;33m\u001b[0m\u001b[0m\n",
      "\u001b[1;32m~\\Anaconda3\\lib\\site-packages\\sklearn\\externals\\joblib\\_parallel_backends.py\u001b[0m in \u001b[0;36mapply_async\u001b[1;34m(self, func, callback)\u001b[0m\n\u001b[0;32m    180\u001b[0m     \u001b[1;32mdef\u001b[0m \u001b[0mapply_async\u001b[0m\u001b[1;33m(\u001b[0m\u001b[0mself\u001b[0m\u001b[1;33m,\u001b[0m \u001b[0mfunc\u001b[0m\u001b[1;33m,\u001b[0m \u001b[0mcallback\u001b[0m\u001b[1;33m=\u001b[0m\u001b[1;32mNone\u001b[0m\u001b[1;33m)\u001b[0m\u001b[1;33m:\u001b[0m\u001b[1;33m\u001b[0m\u001b[1;33m\u001b[0m\u001b[0m\n\u001b[0;32m    181\u001b[0m         \u001b[1;34m\"\"\"Schedule a func to be run\"\"\"\u001b[0m\u001b[1;33m\u001b[0m\u001b[1;33m\u001b[0m\u001b[0m\n\u001b[1;32m--> 182\u001b[1;33m         \u001b[0mresult\u001b[0m \u001b[1;33m=\u001b[0m \u001b[0mImmediateResult\u001b[0m\u001b[1;33m(\u001b[0m\u001b[0mfunc\u001b[0m\u001b[1;33m)\u001b[0m\u001b[1;33m\u001b[0m\u001b[1;33m\u001b[0m\u001b[0m\n\u001b[0m\u001b[0;32m    183\u001b[0m         \u001b[1;32mif\u001b[0m \u001b[0mcallback\u001b[0m\u001b[1;33m:\u001b[0m\u001b[1;33m\u001b[0m\u001b[1;33m\u001b[0m\u001b[0m\n\u001b[0;32m    184\u001b[0m             \u001b[0mcallback\u001b[0m\u001b[1;33m(\u001b[0m\u001b[0mresult\u001b[0m\u001b[1;33m)\u001b[0m\u001b[1;33m\u001b[0m\u001b[1;33m\u001b[0m\u001b[0m\n",
      "\u001b[1;32m~\\Anaconda3\\lib\\site-packages\\sklearn\\externals\\joblib\\_parallel_backends.py\u001b[0m in \u001b[0;36m__init__\u001b[1;34m(self, batch)\u001b[0m\n\u001b[0;32m    547\u001b[0m         \u001b[1;31m# Don't delay the application, to avoid keeping the input\u001b[0m\u001b[1;33m\u001b[0m\u001b[1;33m\u001b[0m\u001b[1;33m\u001b[0m\u001b[0m\n\u001b[0;32m    548\u001b[0m         \u001b[1;31m# arguments in memory\u001b[0m\u001b[1;33m\u001b[0m\u001b[1;33m\u001b[0m\u001b[1;33m\u001b[0m\u001b[0m\n\u001b[1;32m--> 549\u001b[1;33m         \u001b[0mself\u001b[0m\u001b[1;33m.\u001b[0m\u001b[0mresults\u001b[0m \u001b[1;33m=\u001b[0m \u001b[0mbatch\u001b[0m\u001b[1;33m(\u001b[0m\u001b[1;33m)\u001b[0m\u001b[1;33m\u001b[0m\u001b[1;33m\u001b[0m\u001b[0m\n\u001b[0m\u001b[0;32m    550\u001b[0m \u001b[1;33m\u001b[0m\u001b[0m\n\u001b[0;32m    551\u001b[0m     \u001b[1;32mdef\u001b[0m \u001b[0mget\u001b[0m\u001b[1;33m(\u001b[0m\u001b[0mself\u001b[0m\u001b[1;33m)\u001b[0m\u001b[1;33m:\u001b[0m\u001b[1;33m\u001b[0m\u001b[1;33m\u001b[0m\u001b[0m\n",
      "\u001b[1;32m~\\Anaconda3\\lib\\site-packages\\sklearn\\externals\\joblib\\parallel.py\u001b[0m in \u001b[0;36m__call__\u001b[1;34m(self)\u001b[0m\n\u001b[0;32m    223\u001b[0m         \u001b[1;32mwith\u001b[0m \u001b[0mparallel_backend\u001b[0m\u001b[1;33m(\u001b[0m\u001b[0mself\u001b[0m\u001b[1;33m.\u001b[0m\u001b[0m_backend\u001b[0m\u001b[1;33m,\u001b[0m \u001b[0mn_jobs\u001b[0m\u001b[1;33m=\u001b[0m\u001b[0mself\u001b[0m\u001b[1;33m.\u001b[0m\u001b[0m_n_jobs\u001b[0m\u001b[1;33m)\u001b[0m\u001b[1;33m:\u001b[0m\u001b[1;33m\u001b[0m\u001b[1;33m\u001b[0m\u001b[0m\n\u001b[0;32m    224\u001b[0m             return [func(*args, **kwargs)\n\u001b[1;32m--> 225\u001b[1;33m                     for func, args, kwargs in self.items]\n\u001b[0m\u001b[0;32m    226\u001b[0m \u001b[1;33m\u001b[0m\u001b[0m\n\u001b[0;32m    227\u001b[0m     \u001b[1;32mdef\u001b[0m \u001b[0m__len__\u001b[0m\u001b[1;33m(\u001b[0m\u001b[0mself\u001b[0m\u001b[1;33m)\u001b[0m\u001b[1;33m:\u001b[0m\u001b[1;33m\u001b[0m\u001b[1;33m\u001b[0m\u001b[0m\n",
      "\u001b[1;32m~\\Anaconda3\\lib\\site-packages\\sklearn\\externals\\joblib\\parallel.py\u001b[0m in \u001b[0;36m<listcomp>\u001b[1;34m(.0)\u001b[0m\n\u001b[0;32m    223\u001b[0m         \u001b[1;32mwith\u001b[0m \u001b[0mparallel_backend\u001b[0m\u001b[1;33m(\u001b[0m\u001b[0mself\u001b[0m\u001b[1;33m.\u001b[0m\u001b[0m_backend\u001b[0m\u001b[1;33m,\u001b[0m \u001b[0mn_jobs\u001b[0m\u001b[1;33m=\u001b[0m\u001b[0mself\u001b[0m\u001b[1;33m.\u001b[0m\u001b[0m_n_jobs\u001b[0m\u001b[1;33m)\u001b[0m\u001b[1;33m:\u001b[0m\u001b[1;33m\u001b[0m\u001b[1;33m\u001b[0m\u001b[0m\n\u001b[0;32m    224\u001b[0m             return [func(*args, **kwargs)\n\u001b[1;32m--> 225\u001b[1;33m                     for func, args, kwargs in self.items]\n\u001b[0m\u001b[0;32m    226\u001b[0m \u001b[1;33m\u001b[0m\u001b[0m\n\u001b[0;32m    227\u001b[0m     \u001b[1;32mdef\u001b[0m \u001b[0m__len__\u001b[0m\u001b[1;33m(\u001b[0m\u001b[0mself\u001b[0m\u001b[1;33m)\u001b[0m\u001b[1;33m:\u001b[0m\u001b[1;33m\u001b[0m\u001b[1;33m\u001b[0m\u001b[0m\n",
      "\u001b[1;32m~\\Anaconda3\\lib\\site-packages\\sklearn\\model_selection\\_validation.py\u001b[0m in \u001b[0;36m_fit_and_score\u001b[1;34m(estimator, X, y, scorer, train, test, verbose, parameters, fit_params, return_train_score, return_parameters, return_n_test_samples, return_times, return_estimator, error_score)\u001b[0m\n\u001b[0;32m    526\u001b[0m             \u001b[0mestimator\u001b[0m\u001b[1;33m.\u001b[0m\u001b[0mfit\u001b[0m\u001b[1;33m(\u001b[0m\u001b[0mX_train\u001b[0m\u001b[1;33m,\u001b[0m \u001b[1;33m**\u001b[0m\u001b[0mfit_params\u001b[0m\u001b[1;33m)\u001b[0m\u001b[1;33m\u001b[0m\u001b[1;33m\u001b[0m\u001b[0m\n\u001b[0;32m    527\u001b[0m         \u001b[1;32melse\u001b[0m\u001b[1;33m:\u001b[0m\u001b[1;33m\u001b[0m\u001b[1;33m\u001b[0m\u001b[0m\n\u001b[1;32m--> 528\u001b[1;33m             \u001b[0mestimator\u001b[0m\u001b[1;33m.\u001b[0m\u001b[0mfit\u001b[0m\u001b[1;33m(\u001b[0m\u001b[0mX_train\u001b[0m\u001b[1;33m,\u001b[0m \u001b[0my_train\u001b[0m\u001b[1;33m,\u001b[0m \u001b[1;33m**\u001b[0m\u001b[0mfit_params\u001b[0m\u001b[1;33m)\u001b[0m\u001b[1;33m\u001b[0m\u001b[1;33m\u001b[0m\u001b[0m\n\u001b[0m\u001b[0;32m    529\u001b[0m \u001b[1;33m\u001b[0m\u001b[0m\n\u001b[0;32m    530\u001b[0m     \u001b[1;32mexcept\u001b[0m \u001b[0mException\u001b[0m \u001b[1;32mas\u001b[0m \u001b[0me\u001b[0m\u001b[1;33m:\u001b[0m\u001b[1;33m\u001b[0m\u001b[1;33m\u001b[0m\u001b[0m\n",
      "\u001b[1;32m~\\Anaconda3\\lib\\site-packages\\tensorflow\\python\\keras\\wrappers\\scikit_learn.py\u001b[0m in \u001b[0;36mfit\u001b[1;34m(self, x, y, **kwargs)\u001b[0m\n\u001b[0;32m    221\u001b[0m       \u001b[1;32mraise\u001b[0m \u001b[0mValueError\u001b[0m\u001b[1;33m(\u001b[0m\u001b[1;34m'Invalid shape for y: '\u001b[0m \u001b[1;33m+\u001b[0m \u001b[0mstr\u001b[0m\u001b[1;33m(\u001b[0m\u001b[0my\u001b[0m\u001b[1;33m.\u001b[0m\u001b[0mshape\u001b[0m\u001b[1;33m)\u001b[0m\u001b[1;33m)\u001b[0m\u001b[1;33m\u001b[0m\u001b[1;33m\u001b[0m\u001b[0m\n\u001b[0;32m    222\u001b[0m     \u001b[0mself\u001b[0m\u001b[1;33m.\u001b[0m\u001b[0mn_classes_\u001b[0m \u001b[1;33m=\u001b[0m \u001b[0mlen\u001b[0m\u001b[1;33m(\u001b[0m\u001b[0mself\u001b[0m\u001b[1;33m.\u001b[0m\u001b[0mclasses_\u001b[0m\u001b[1;33m)\u001b[0m\u001b[1;33m\u001b[0m\u001b[1;33m\u001b[0m\u001b[0m\n\u001b[1;32m--> 223\u001b[1;33m     \u001b[1;32mreturn\u001b[0m \u001b[0msuper\u001b[0m\u001b[1;33m(\u001b[0m\u001b[0mKerasClassifier\u001b[0m\u001b[1;33m,\u001b[0m \u001b[0mself\u001b[0m\u001b[1;33m)\u001b[0m\u001b[1;33m.\u001b[0m\u001b[0mfit\u001b[0m\u001b[1;33m(\u001b[0m\u001b[0mx\u001b[0m\u001b[1;33m,\u001b[0m \u001b[0my\u001b[0m\u001b[1;33m,\u001b[0m \u001b[1;33m**\u001b[0m\u001b[0mkwargs\u001b[0m\u001b[1;33m)\u001b[0m\u001b[1;33m\u001b[0m\u001b[1;33m\u001b[0m\u001b[0m\n\u001b[0m\u001b[0;32m    224\u001b[0m \u001b[1;33m\u001b[0m\u001b[0m\n\u001b[0;32m    225\u001b[0m   \u001b[1;32mdef\u001b[0m \u001b[0mpredict\u001b[0m\u001b[1;33m(\u001b[0m\u001b[0mself\u001b[0m\u001b[1;33m,\u001b[0m \u001b[0mx\u001b[0m\u001b[1;33m,\u001b[0m \u001b[1;33m**\u001b[0m\u001b[0mkwargs\u001b[0m\u001b[1;33m)\u001b[0m\u001b[1;33m:\u001b[0m\u001b[1;33m\u001b[0m\u001b[1;33m\u001b[0m\u001b[0m\n",
      "\u001b[1;32m~\\Anaconda3\\lib\\site-packages\\tensorflow\\python\\keras\\wrappers\\scikit_learn.py\u001b[0m in \u001b[0;36mfit\u001b[1;34m(self, x, y, **kwargs)\u001b[0m\n\u001b[0;32m    155\u001b[0m           **self.filter_sk_params(self.build_fn.__call__))\n\u001b[0;32m    156\u001b[0m     \u001b[1;32melse\u001b[0m\u001b[1;33m:\u001b[0m\u001b[1;33m\u001b[0m\u001b[1;33m\u001b[0m\u001b[0m\n\u001b[1;32m--> 157\u001b[1;33m       \u001b[0mself\u001b[0m\u001b[1;33m.\u001b[0m\u001b[0mmodel\u001b[0m \u001b[1;33m=\u001b[0m \u001b[0mself\u001b[0m\u001b[1;33m.\u001b[0m\u001b[0mbuild_fn\u001b[0m\u001b[1;33m(\u001b[0m\u001b[1;33m**\u001b[0m\u001b[0mself\u001b[0m\u001b[1;33m.\u001b[0m\u001b[0mfilter_sk_params\u001b[0m\u001b[1;33m(\u001b[0m\u001b[0mself\u001b[0m\u001b[1;33m.\u001b[0m\u001b[0mbuild_fn\u001b[0m\u001b[1;33m)\u001b[0m\u001b[1;33m)\u001b[0m\u001b[1;33m\u001b[0m\u001b[1;33m\u001b[0m\u001b[0m\n\u001b[0m\u001b[0;32m    158\u001b[0m \u001b[1;33m\u001b[0m\u001b[0m\n\u001b[0;32m    159\u001b[0m     if (losses.is_categorical_crossentropy(self.model.loss) and\n",
      "\u001b[1;32m<ipython-input-38-eecbe755ecdb>\u001b[0m in \u001b[0;36mcreate_baseline\u001b[1;34m()\u001b[0m\n\u001b[0;32m      3\u001b[0m \u001b[1;31m# create model, write code below\u001b[0m\u001b[1;33m\u001b[0m\u001b[1;33m\u001b[0m\u001b[1;33m\u001b[0m\u001b[0m\n\u001b[0;32m      4\u001b[0m     \u001b[0mmodel\u001b[0m \u001b[1;33m=\u001b[0m \u001b[0mSequential\u001b[0m\u001b[1;33m(\u001b[0m\u001b[1;33m)\u001b[0m\u001b[1;33m\u001b[0m\u001b[1;33m\u001b[0m\u001b[0m\n\u001b[1;32m----> 5\u001b[1;33m     \u001b[0mmodel\u001b[0m\u001b[1;33m.\u001b[0m\u001b[0madd\u001b[0m\u001b[1;33m(\u001b[0m\u001b[0mDense\u001b[0m\u001b[1;33m(\u001b[0m\u001b[1;36m60\u001b[0m\u001b[1;33m,\u001b[0m \u001b[0minput_dim\u001b[0m\u001b[1;33m=\u001b[0m\u001b[1;36m60\u001b[0m\u001b[1;33m,\u001b[0m \u001b[0mactivation\u001b[0m\u001b[1;33m=\u001b[0m\u001b[1;34m'Rectifier'\u001b[0m\u001b[1;33m)\u001b[0m\u001b[1;33m)\u001b[0m\u001b[1;33m\u001b[0m\u001b[1;33m\u001b[0m\u001b[0m\n\u001b[0m\u001b[0;32m      6\u001b[0m     \u001b[0mmodel\u001b[0m\u001b[1;33m.\u001b[0m\u001b[0madd\u001b[0m\u001b[1;33m(\u001b[0m\u001b[0mDense\u001b[0m\u001b[1;33m(\u001b[0m\u001b[1;36m1\u001b[0m\u001b[1;33m,\u001b[0m \u001b[0mactivation\u001b[0m\u001b[1;33m=\u001b[0m\u001b[1;34m'sigmoid'\u001b[0m\u001b[1;33m)\u001b[0m\u001b[1;33m)\u001b[0m\u001b[1;33m\u001b[0m\u001b[1;33m\u001b[0m\u001b[0m\n\u001b[0;32m      7\u001b[0m     \u001b[1;31m# Compile model, write code below\u001b[0m\u001b[1;33m\u001b[0m\u001b[1;33m\u001b[0m\u001b[1;33m\u001b[0m\u001b[0m\n",
      "\u001b[1;32m~\\Anaconda3\\lib\\site-packages\\tensorflow\\python\\keras\\layers\\core.py\u001b[0m in \u001b[0;36m__init__\u001b[1;34m(self, units, activation, use_bias, kernel_initializer, bias_initializer, kernel_regularizer, bias_regularizer, activity_regularizer, kernel_constraint, bias_constraint, **kwargs)\u001b[0m\n\u001b[0;32m    984\u001b[0m         activity_regularizer=regularizers.get(activity_regularizer), **kwargs)\n\u001b[0;32m    985\u001b[0m     \u001b[0mself\u001b[0m\u001b[1;33m.\u001b[0m\u001b[0munits\u001b[0m \u001b[1;33m=\u001b[0m \u001b[0mint\u001b[0m\u001b[1;33m(\u001b[0m\u001b[0munits\u001b[0m\u001b[1;33m)\u001b[0m\u001b[1;33m\u001b[0m\u001b[1;33m\u001b[0m\u001b[0m\n\u001b[1;32m--> 986\u001b[1;33m     \u001b[0mself\u001b[0m\u001b[1;33m.\u001b[0m\u001b[0mactivation\u001b[0m \u001b[1;33m=\u001b[0m \u001b[0mactivations\u001b[0m\u001b[1;33m.\u001b[0m\u001b[0mget\u001b[0m\u001b[1;33m(\u001b[0m\u001b[0mactivation\u001b[0m\u001b[1;33m)\u001b[0m\u001b[1;33m\u001b[0m\u001b[1;33m\u001b[0m\u001b[0m\n\u001b[0m\u001b[0;32m    987\u001b[0m     \u001b[0mself\u001b[0m\u001b[1;33m.\u001b[0m\u001b[0muse_bias\u001b[0m \u001b[1;33m=\u001b[0m \u001b[0muse_bias\u001b[0m\u001b[1;33m\u001b[0m\u001b[1;33m\u001b[0m\u001b[0m\n\u001b[0;32m    988\u001b[0m     \u001b[0mself\u001b[0m\u001b[1;33m.\u001b[0m\u001b[0mkernel_initializer\u001b[0m \u001b[1;33m=\u001b[0m \u001b[0minitializers\u001b[0m\u001b[1;33m.\u001b[0m\u001b[0mget\u001b[0m\u001b[1;33m(\u001b[0m\u001b[0mkernel_initializer\u001b[0m\u001b[1;33m)\u001b[0m\u001b[1;33m\u001b[0m\u001b[1;33m\u001b[0m\u001b[0m\n",
      "\u001b[1;32m~\\Anaconda3\\lib\\site-packages\\tensorflow\\python\\keras\\activations.py\u001b[0m in \u001b[0;36mget\u001b[1;34m(identifier)\u001b[0m\n\u001b[0;32m    304\u001b[0m   \u001b[1;32mif\u001b[0m \u001b[0misinstance\u001b[0m\u001b[1;33m(\u001b[0m\u001b[0midentifier\u001b[0m\u001b[1;33m,\u001b[0m \u001b[0msix\u001b[0m\u001b[1;33m.\u001b[0m\u001b[0mstring_types\u001b[0m\u001b[1;33m)\u001b[0m\u001b[1;33m:\u001b[0m\u001b[1;33m\u001b[0m\u001b[1;33m\u001b[0m\u001b[0m\n\u001b[0;32m    305\u001b[0m     \u001b[0midentifier\u001b[0m \u001b[1;33m=\u001b[0m \u001b[0mstr\u001b[0m\u001b[1;33m(\u001b[0m\u001b[0midentifier\u001b[0m\u001b[1;33m)\u001b[0m\u001b[1;33m\u001b[0m\u001b[1;33m\u001b[0m\u001b[0m\n\u001b[1;32m--> 306\u001b[1;33m     \u001b[1;32mreturn\u001b[0m \u001b[0mdeserialize\u001b[0m\u001b[1;33m(\u001b[0m\u001b[0midentifier\u001b[0m\u001b[1;33m)\u001b[0m\u001b[1;33m\u001b[0m\u001b[1;33m\u001b[0m\u001b[0m\n\u001b[0m\u001b[0;32m    307\u001b[0m   \u001b[1;32melif\u001b[0m \u001b[0mcallable\u001b[0m\u001b[1;33m(\u001b[0m\u001b[0midentifier\u001b[0m\u001b[1;33m)\u001b[0m\u001b[1;33m:\u001b[0m\u001b[1;33m\u001b[0m\u001b[1;33m\u001b[0m\u001b[0m\n\u001b[0;32m    308\u001b[0m     \u001b[1;32mreturn\u001b[0m \u001b[0midentifier\u001b[0m\u001b[1;33m\u001b[0m\u001b[1;33m\u001b[0m\u001b[0m\n",
      "\u001b[1;32m~\\Anaconda3\\lib\\site-packages\\tensorflow\\python\\keras\\activations.py\u001b[0m in \u001b[0;36mdeserialize\u001b[1;34m(name, custom_objects)\u001b[0m\n\u001b[0;32m    295\u001b[0m       \u001b[0mmodule_objects\u001b[0m\u001b[1;33m=\u001b[0m\u001b[0mglobals\u001b[0m\u001b[1;33m(\u001b[0m\u001b[1;33m)\u001b[0m\u001b[1;33m,\u001b[0m\u001b[1;33m\u001b[0m\u001b[1;33m\u001b[0m\u001b[0m\n\u001b[0;32m    296\u001b[0m       \u001b[0mcustom_objects\u001b[0m\u001b[1;33m=\u001b[0m\u001b[0mcustom_objects\u001b[0m\u001b[1;33m,\u001b[0m\u001b[1;33m\u001b[0m\u001b[1;33m\u001b[0m\u001b[0m\n\u001b[1;32m--> 297\u001b[1;33m       printable_module_name='activation function')\n\u001b[0m\u001b[0;32m    298\u001b[0m \u001b[1;33m\u001b[0m\u001b[0m\n\u001b[0;32m    299\u001b[0m \u001b[1;33m\u001b[0m\u001b[0m\n",
      "\u001b[1;32m~\\Anaconda3\\lib\\site-packages\\tensorflow\\python\\keras\\utils\\generic_utils.py\u001b[0m in \u001b[0;36mdeserialize_keras_object\u001b[1;34m(identifier, module_objects, custom_objects, printable_module_name)\u001b[0m\n\u001b[0;32m    209\u001b[0m       \u001b[0mobj\u001b[0m \u001b[1;33m=\u001b[0m \u001b[0mmodule_objects\u001b[0m\u001b[1;33m.\u001b[0m\u001b[0mget\u001b[0m\u001b[1;33m(\u001b[0m\u001b[0mobject_name\u001b[0m\u001b[1;33m)\u001b[0m\u001b[1;33m\u001b[0m\u001b[1;33m\u001b[0m\u001b[0m\n\u001b[0;32m    210\u001b[0m       \u001b[1;32mif\u001b[0m \u001b[0mobj\u001b[0m \u001b[1;32mis\u001b[0m \u001b[1;32mNone\u001b[0m\u001b[1;33m:\u001b[0m\u001b[1;33m\u001b[0m\u001b[1;33m\u001b[0m\u001b[0m\n\u001b[1;32m--> 211\u001b[1;33m         \u001b[1;32mraise\u001b[0m \u001b[0mValueError\u001b[0m\u001b[1;33m(\u001b[0m\u001b[1;34m'Unknown '\u001b[0m \u001b[1;33m+\u001b[0m \u001b[0mprintable_module_name\u001b[0m \u001b[1;33m+\u001b[0m \u001b[1;34m':'\u001b[0m \u001b[1;33m+\u001b[0m \u001b[0mobject_name\u001b[0m\u001b[1;33m)\u001b[0m\u001b[1;33m\u001b[0m\u001b[1;33m\u001b[0m\u001b[0m\n\u001b[0m\u001b[0;32m    212\u001b[0m     \u001b[1;31m# Classes passed by name are instantiated with no args, functions are\u001b[0m\u001b[1;33m\u001b[0m\u001b[1;33m\u001b[0m\u001b[1;33m\u001b[0m\u001b[0m\n\u001b[0;32m    213\u001b[0m     \u001b[1;31m# returned as-is.\u001b[0m\u001b[1;33m\u001b[0m\u001b[1;33m\u001b[0m\u001b[1;33m\u001b[0m\u001b[0m\n",
      "\u001b[1;31mValueError\u001b[0m: Unknown activation function:Rectifier"
     ]
    }
   ],
   "source": [
    "# evaluate model with standardized dataset\n",
    "estimator = KerasClassifier(build_fn=create_baseline, epochs=100, batch_size=5, verbose=0)\n",
    "kfold = StratifiedKFold(n_splits=10, shuffle=True, random_state=seed)\n",
    "results = cross_val_score(estimator, X,encoded_Y, cv=kfold)\n",
    "print(\"Results: %.2f%% (%.2f%%)\" % (results.mean()*100, results.std()*100))\n",
    "\n",
    "#End Of Step - 1 & 2\n",
    "#Results: 82.71% (9.51%)"
   ]
  },
  {
   "cell_type": "code",
   "execution_count": null,
   "metadata": {
    "colab": {},
    "colab_type": "code",
    "id": "paFbMZPVE3RV"
   },
   "outputs": [],
   "source": [
    "#Step - 3\n",
    "# evaluate baseline model with standardized dataset\n",
    "numpy.random.seed(seed)\n",
    "estimators = []\n",
    "estimators.append(('standardize', StandardScaler()))\n",
    "estimators.append(('mlp', KerasClassifier(build_fn=create_baseline, epochs=75, batch_size=5, verbose=0)))\n",
    "pipeline = Pipeline(estimators)\n",
    "kfold = StratifiedKFold(n_splits=10, shuffle=True, random_state=seed)\n",
    "results = cross_val_score(pipeline, X, encoded_Y, cv=kfold)\n",
    "print(\"Standardized: %.2f%% (%.2f%%)\" % (results.mean()*100, results.std()*100))\n",
    "\n",
    "\n",
    "#Standardized: 86.97% (6.17%)\n",
    "#End of Step - 3"
   ]
  },
  {
   "cell_type": "code",
   "execution_count": null,
   "metadata": {},
   "outputs": [],
   "source": [
    "# Step - 4.1\n",
    "\n",
    "# smaller model\n",
    "def create_smaller():\n",
    "    model = Sequential()\n",
    "    model.add(Dense(30, input_dim=60, activation='relu'))\n",
    "    model.add(Dense(1, activation='sigmoid'))\n",
    "    # Compile model, write code below\n",
    "    model.compile(loss='binary_crossentropy', optimizer='adam', metrics=['accuracy'])\n",
    "    return model\n",
    "estimators = []\n",
    "estimators.append(('standardize', StandardScaler()))\n",
    "estimators.append(('mlp', KerasClassifier(build_fn=create_smaller, epochs=100, batch_size=5, verbose=0)))\n",
    "pipeline = Pipeline(estimators)\n",
    "kfold = StratifiedKFold(n_splits=10, shuffle=True, random_state=seed)\n",
    "results = cross_val_score(pipeline, X, encoded_Y, cv=kfold)\n",
    "print(\"Smaller: %.2f%% (%.2f%%)\" % (results.mean()*100, results.std()*100))\n",
    "\n",
    "#Smaller: 85.59% (6.44%)\n",
    "#End of Step - 4.1"
   ]
  },
  {
   "cell_type": "code",
   "execution_count": 42,
   "metadata": {
    "scrolled": false
   },
   "outputs": [
    {
     "name": "stdout",
     "output_type": "stream",
     "text": [
      "Epoch 1/20\n",
      "186/186 [==============================] - 9s 47ms/sample - loss: 0.8022 - acc: 0.392513s - loss: 0.9209\n",
      "Epoch 2/20\n",
      "186/186 [==============================] - 1s 6ms/sample - loss: 0.6020 - acc: 0.6613\n",
      "Epoch 3/20\n",
      "186/186 [==============================] - ETA: 0s - loss: 0.5035 - acc: 0.800 - 1s 3ms/sample - loss: 0.5020 - acc: 0.8011\n",
      "Epoch 4/20\n",
      "186/186 [==============================] - 1s 3ms/sample - loss: 0.4210 - acc: 0.8871\n",
      "Epoch 5/20\n",
      "186/186 [==============================] - 1s 3ms/sample - loss: 0.3556 - acc: 0.9032\n",
      "Epoch 6/20\n",
      "186/186 [==============================] - 0s 2ms/sample - loss: 0.2975 - acc: 0.9301\n",
      "Epoch 7/20\n",
      "186/186 [==============================] - 1s 3ms/sample - loss: 0.2459 - acc: 0.9624 0s - loss: 0.2178 - acc\n",
      "Epoch 8/20\n",
      "186/186 [==============================] - 1s 3ms/sample - loss: 0.2085 - acc: 0.9677\n",
      "Epoch 9/20\n",
      "186/186 [==============================] - 0s 2ms/sample - loss: 0.1699 - acc: 0.9731\n",
      "Epoch 10/20\n",
      "186/186 [==============================] - 0s 2ms/sample - loss: 0.1412 - acc: 0.9892\n",
      "Epoch 11/20\n",
      "186/186 [==============================] - 0s 2ms/sample - loss: 0.1164 - acc: 0.9892\n",
      "Epoch 12/20\n",
      "186/186 [==============================] - 0s 2ms/sample - loss: 0.0961 - acc: 0.9946\n",
      "Epoch 13/20\n",
      "186/186 [==============================] - 0s 2ms/sample - loss: 0.0822 - acc: 1.0000\n",
      "Epoch 14/20\n",
      "186/186 [==============================] - 0s 2ms/sample - loss: 0.0700 - acc: 1.0000\n",
      "Epoch 15/20\n",
      "186/186 [==============================] - 0s 1ms/sample - loss: 0.0561 - acc: 1.0000\n",
      "Epoch 16/20\n",
      "186/186 [==============================] - 0s 1ms/sample - loss: 0.0460 - acc: 1.0000\n",
      "Epoch 17/20\n",
      "186/186 [==============================] - 0s 2ms/sample - loss: 0.0384 - acc: 1.0000\n",
      "Epoch 18/20\n",
      "186/186 [==============================] - 0s 1ms/sample - loss: 0.0328 - acc: 1.0000\n",
      "Epoch 19/20\n",
      "186/186 [==============================] - 0s 1ms/sample - loss: 0.0277 - acc: 1.0000\n",
      "Epoch 20/20\n",
      "186/186 [==============================] - 0s 2ms/sample - loss: 0.0233 - acc: 1.0000\n",
      "22/22 [==============================] - 1s 68ms/sample - loss: 0.2676 - acc: 0.9091\n",
      "Epoch 1/20\n",
      "187/187 [==============================] - 1s 7ms/sample - loss: 0.7364 - acc: 0.5561\n",
      "Epoch 2/20\n",
      "187/187 [==============================] - 0s 2ms/sample - loss: 0.5603 - acc: 0.7273 0s - loss: 0.5459 - acc: 0.7\n",
      "Epoch 3/20\n",
      "187/187 [==============================] - 0s 3ms/sample - loss: 0.4553 - acc: 0.8075\n",
      "Epoch 4/20\n",
      "187/187 [==============================] - 1s 3ms/sample - loss: 0.3712 - acc: 0.8610 0s - loss: 0.3735 - acc: 0.\n",
      "Epoch 5/20\n",
      "187/187 [==============================] - 1s 3ms/sample - loss: 0.3110 - acc: 0.9091\n",
      "Epoch 6/20\n",
      "187/187 [==============================] - 1s 4ms/sample - loss: 0.2623 - acc: 0.9198\n",
      "Epoch 7/20\n",
      "187/187 [==============================] - 1s 3ms/sample - loss: 0.2232 - acc: 0.9358\n",
      "Epoch 8/20\n",
      "187/187 [==============================] - 0s 2ms/sample - loss: 0.1919 - acc: 0.9465\n",
      "Epoch 9/20\n",
      "187/187 [==============================] - 1s 3ms/sample - loss: 0.1601 - acc: 0.9679\n",
      "Epoch 10/20\n",
      "187/187 [==============================] - 0s 2ms/sample - loss: 0.1333 - acc: 0.9893\n",
      "Epoch 11/20\n",
      "187/187 [==============================] - 0s 2ms/sample - loss: 0.1113 - acc: 0.9840\n",
      "Epoch 12/20\n",
      "187/187 [==============================] - 0s 1ms/sample - loss: 0.0924 - acc: 0.9947\n",
      "Epoch 13/20\n",
      "187/187 [==============================] - 0s 1ms/sample - loss: 0.0785 - acc: 0.9947\n",
      "Epoch 14/20\n",
      "187/187 [==============================] - 0s 1ms/sample - loss: 0.0666 - acc: 0.9947\n",
      "Epoch 15/20\n",
      "187/187 [==============================] - 0s 1ms/sample - loss: 0.0570 - acc: 0.9947\n",
      "Epoch 16/20\n",
      "187/187 [==============================] - 0s 1ms/sample - loss: 0.0491 - acc: 1.0000 0s - loss: 0.0575 - acc: 1.\n",
      "Epoch 17/20\n",
      "187/187 [==============================] - 0s 1ms/sample - loss: 0.0402 - acc: 1.0000\n",
      "Epoch 18/20\n",
      "187/187 [==============================] - 0s 1ms/sample - loss: 0.0342 - acc: 1.0000\n",
      "Epoch 19/20\n",
      "187/187 [==============================] - 0s 1ms/sample - loss: 0.0296 - acc: 1.0000\n",
      "Epoch 20/20\n",
      "187/187 [==============================] - 0s 808us/sample - loss: 0.0247 - acc: 1.0000\n",
      "21/21 [==============================] - 1s 25ms/sample - loss: 0.1078 - acc: 0.9524\n",
      "Epoch 1/20\n",
      "187/187 [==============================] - 2s 9ms/sample - loss: 0.7232 - acc: 0.4866\n",
      "Epoch 2/20\n",
      "187/187 [==============================] - 0s 2ms/sample - loss: 0.5924 - acc: 0.7754\n",
      "Epoch 3/20\n",
      "187/187 [==============================] - 0s 2ms/sample - loss: 0.5086 - acc: 0.8396\n",
      "Epoch 4/20\n",
      "187/187 [==============================] - 0s 2ms/sample - loss: 0.4331 - acc: 0.8342\n",
      "Epoch 5/20\n",
      "187/187 [==============================] - 0s 2ms/sample - loss: 0.3587 - acc: 0.8663\n",
      "Epoch 6/20\n",
      "187/187 [==============================] - 0s 2ms/sample - loss: 0.3022 - acc: 0.9037\n",
      "Epoch 7/20\n",
      "187/187 [==============================] - 0s 2ms/sample - loss: 0.2574 - acc: 0.9305\n",
      "Epoch 8/20\n",
      "187/187 [==============================] - 0s 1ms/sample - loss: 0.2162 - acc: 0.9412\n",
      "Epoch 9/20\n",
      "187/187 [==============================] - 0s 963us/sample - loss: 0.1820 - acc: 0.9572\n",
      "Epoch 10/20\n",
      "187/187 [==============================] - 0s 1ms/sample - loss: 0.1537 - acc: 0.9733\n",
      "Epoch 11/20\n",
      "187/187 [==============================] - 0s 2ms/sample - loss: 0.1294 - acc: 0.9733\n",
      "Epoch 12/20\n",
      "187/187 [==============================] - 0s 1ms/sample - loss: 0.1071 - acc: 0.9840\n",
      "Epoch 13/20\n",
      "187/187 [==============================] - 0s 922us/sample - loss: 0.0911 - acc: 0.9840\n",
      "Epoch 14/20\n",
      "187/187 [==============================] - 0s 1ms/sample - loss: 0.0762 - acc: 0.9893\n",
      "Epoch 15/20\n",
      "187/187 [==============================] - 0s 1ms/sample - loss: 0.0644 - acc: 0.9947\n",
      "Epoch 16/20\n",
      "187/187 [==============================] - 0s 829us/sample - loss: 0.0542 - acc: 0.9947\n",
      "Epoch 17/20\n",
      "187/187 [==============================] - 0s 1ms/sample - loss: 0.0447 - acc: 0.9947\n",
      "Epoch 18/20\n",
      "187/187 [==============================] - 0s 842us/sample - loss: 0.0371 - acc: 1.0000\n",
      "Epoch 19/20\n",
      "187/187 [==============================] - 0s 1ms/sample - loss: 0.0299 - acc: 1.0000\n",
      "Epoch 20/20\n",
      "187/187 [==============================] - 0s 775us/sample - loss: 0.0246 - acc: 1.0000\n",
      "21/21 [==============================] - 0s 9ms/sample - loss: 0.8034 - acc: 0.7143\n",
      "Epoch 1/20\n",
      "187/187 [==============================] - 1s 5ms/sample - loss: 0.6608 - acc: 0.6257\n",
      "Epoch 2/20\n",
      "187/187 [==============================] - 0s 1ms/sample - loss: 0.4960 - acc: 0.8021\n",
      "Epoch 3/20\n",
      "187/187 [==============================] - 0s 829us/sample - loss: 0.4093 - acc: 0.8503\n",
      "Epoch 4/20\n",
      "187/187 [==============================] - 0s 709us/sample - loss: 0.3422 - acc: 0.8824\n",
      "Epoch 5/20\n",
      "187/187 [==============================] - 0s 709us/sample - loss: 0.2844 - acc: 0.9144\n",
      "Epoch 6/20\n",
      "187/187 [==============================] - 0s 709us/sample - loss: 0.2411 - acc: 0.9358\n",
      "Epoch 7/20\n",
      "187/187 [==============================] - 0s 1ms/sample - loss: 0.2081 - acc: 0.9519\n",
      "Epoch 8/20\n",
      "187/187 [==============================] - 0s 1ms/sample - loss: 0.1758 - acc: 0.9626\n",
      "Epoch 9/20\n",
      "187/187 [==============================] - 0s 1ms/sample - loss: 0.1482 - acc: 0.9733\n",
      "Epoch 10/20\n",
      "187/187 [==============================] - 0s 1ms/sample - loss: 0.1282 - acc: 0.9733\n",
      "Epoch 11/20\n",
      "187/187 [==============================] - 0s 1ms/sample - loss: 0.1073 - acc: 0.9786\n",
      "Epoch 12/20\n",
      "187/187 [==============================] - 0s 1ms/sample - loss: 0.0925 - acc: 0.9893\n",
      "Epoch 13/20\n",
      "187/187 [==============================] - 0s 1ms/sample - loss: 0.0771 - acc: 0.9947\n",
      "Epoch 14/20\n",
      "187/187 [==============================] - ETA: 0s - loss: 0.0637 - acc: 0.992 - 0s 733us/sample - loss: 0.0644 - acc: 0.9947\n",
      "Epoch 15/20\n",
      "187/187 [==============================] - 0s 941us/sample - loss: 0.0533 - acc: 1.0000\n",
      "Epoch 16/20\n",
      "187/187 [==============================] - 0s 1ms/sample - loss: 0.0470 - acc: 0.9947\n",
      "Epoch 17/20\n",
      "187/187 [==============================] - 0s 2ms/sample - loss: 0.0399 - acc: 0.9947\n",
      "Epoch 18/20\n",
      "187/187 [==============================] - 0s 1ms/sample - loss: 0.0330 - acc: 1.0000\n",
      "Epoch 19/20\n",
      "187/187 [==============================] - 0s 1ms/sample - loss: 0.0265 - acc: 1.0000\n",
      "Epoch 20/20\n"
     ]
    },
    {
     "name": "stdout",
     "output_type": "stream",
     "text": [
      "187/187 [==============================] - 0s 1ms/sample - loss: 0.0228 - acc: 1.0000\n",
      "21/21 [==============================] - 0s 12ms/sample - loss: 0.5012 - acc: 0.8095\n",
      "Epoch 1/20\n",
      "187/187 [==============================] - 1s 6ms/sample - loss: 0.6846 - acc: 0.5508\n",
      "Epoch 2/20\n",
      "187/187 [==============================] - 0s 658us/sample - loss: 0.5591 - acc: 0.7807\n",
      "Epoch 3/20\n",
      "187/187 [==============================] - 0s 685us/sample - loss: 0.4717 - acc: 0.8235s - loss: 0.4702 - acc: 0.822\n",
      "Epoch 4/20\n",
      "187/187 [==============================] - 0s 2ms/sample - loss: 0.3879 - acc: 0.8770\n",
      "Epoch 5/20\n",
      "187/187 [==============================] - 0s 1ms/sample - loss: 0.3216 - acc: 0.8824\n",
      "Epoch 6/20\n",
      "187/187 [==============================] - 0s 818us/sample - loss: 0.2645 - acc: 0.9198\n",
      "Epoch 7/20\n",
      "187/187 [==============================] - 0s 824us/sample - loss: 0.2226 - acc: 0.9358s - loss: 0.2222 - acc: 0.96\n",
      "Epoch 8/20\n",
      "187/187 [==============================] - 0s 749us/sample - loss: 0.1897 - acc: 0.9412\n",
      "Epoch 9/20\n",
      "187/187 [==============================] - 0s 834us/sample - loss: 0.1596 - acc: 0.9519\n",
      "Epoch 10/20\n",
      "187/187 [==============================] - 0s 808us/sample - loss: 0.1382 - acc: 0.9679\n",
      "Epoch 11/20\n",
      "187/187 [==============================] - 0s 770us/sample - loss: 0.1188 - acc: 0.9733\n",
      "Epoch 12/20\n",
      "187/187 [==============================] - 0s 979us/sample - loss: 0.1030 - acc: 0.9786\n",
      "Epoch 13/20\n",
      "187/187 [==============================] - 0s 834us/sample - loss: 0.0886 - acc: 0.9893\n",
      "Epoch 14/20\n",
      "187/187 [==============================] - 0s 1ms/sample - loss: 0.0749 - acc: 1.0000\n",
      "Epoch 15/20\n",
      "187/187 [==============================] - 0s 1ms/sample - loss: 0.0625 - acc: 0.9947\n",
      "Epoch 16/20\n",
      "187/187 [==============================] - 0s 1ms/sample - loss: 0.0525 - acc: 1.0000\n",
      "Epoch 17/20\n",
      "187/187 [==============================] - 0s 829us/sample - loss: 0.0449 - acc: 1.0000\n",
      "Epoch 18/20\n",
      "187/187 [==============================] - 0s 685us/sample - loss: 0.0373 - acc: 1.0000\n",
      "Epoch 19/20\n",
      "187/187 [==============================] - 0s 727us/sample - loss: 0.0322 - acc: 1.0000\n",
      "Epoch 20/20\n",
      "187/187 [==============================] - 0s 845us/sample - loss: 0.0273 - acc: 1.0000\n",
      "21/21 [==============================] - 0s 10ms/sample - loss: 0.2789 - acc: 0.8095\n",
      "Epoch 1/20\n",
      "187/187 [==============================] - 1s 6ms/sample - loss: 0.6079 - acc: 0.6310\n",
      "Epoch 2/20\n",
      "187/187 [==============================] - 0s 1ms/sample - loss: 0.4838 - acc: 0.7540\n",
      "Epoch 3/20\n",
      "187/187 [==============================] - 0s 1ms/sample - loss: 0.4054 - acc: 0.8075\n",
      "Epoch 4/20\n",
      "187/187 [==============================] - 0s 1ms/sample - loss: 0.3431 - acc: 0.8770\n",
      "Epoch 5/20\n",
      "187/187 [==============================] - 0s 1ms/sample - loss: 0.2869 - acc: 0.9037\n",
      "Epoch 6/20\n",
      "187/187 [==============================] - 0s 920us/sample - loss: 0.2448 - acc: 0.9198\n",
      "Epoch 7/20\n",
      "187/187 [==============================] - ETA: 0s - loss: 0.2005 - acc: 0.942 - 0s 1ms/sample - loss: 0.2032 - acc: 0.9412\n",
      "Epoch 8/20\n",
      "187/187 [==============================] - 0s 2ms/sample - loss: 0.1744 - acc: 0.9465\n",
      "Epoch 9/20\n",
      "187/187 [==============================] - 0s 1ms/sample - loss: 0.1487 - acc: 0.9626\n",
      "Epoch 10/20\n",
      "187/187 [==============================] - 0s 2ms/sample - loss: 0.1235 - acc: 0.9733\n",
      "Epoch 11/20\n",
      "187/187 [==============================] - 0s 984us/sample - loss: 0.1031 - acc: 0.9840\n",
      "Epoch 12/20\n",
      "187/187 [==============================] - 0s 1ms/sample - loss: 0.0874 - acc: 0.9893\n",
      "Epoch 13/20\n",
      "187/187 [==============================] - 0s 781us/sample - loss: 0.0738 - acc: 0.9947\n",
      "Epoch 14/20\n",
      "187/187 [==============================] - 0s 829us/sample - loss: 0.0604 - acc: 0.9947\n",
      "Epoch 15/20\n",
      "187/187 [==============================] - 0s 706us/sample - loss: 0.0494 - acc: 0.9947\n",
      "Epoch 16/20\n",
      "187/187 [==============================] - 0s 1ms/sample - loss: 0.0413 - acc: 0.9947\n",
      "Epoch 17/20\n",
      "187/187 [==============================] - 0s 808us/sample - loss: 0.0342 - acc: 1.0000\n",
      "Epoch 18/20\n",
      "187/187 [==============================] - 0s 968us/sample - loss: 0.0286 - acc: 1.0000\n",
      "Epoch 19/20\n",
      "187/187 [==============================] - 0s 850us/sample - loss: 0.0236 - acc: 1.0000\n",
      "Epoch 20/20\n",
      "187/187 [==============================] - 0s 829us/sample - loss: 0.0199 - acc: 1.0000\n",
      "21/21 [==============================] - 0s 11ms/sample - loss: 0.5738 - acc: 0.6667\n",
      "Epoch 1/20\n",
      "187/187 [==============================] - 1s 5ms/sample - loss: 0.7189 - acc: 0.5455\n",
      "Epoch 2/20\n",
      "187/187 [==============================] - 0s 1ms/sample - loss: 0.5402 - acc: 0.7807\n",
      "Epoch 3/20\n",
      "187/187 [==============================] - 1s 3ms/sample - loss: 0.4588 - acc: 0.8182\n",
      "Epoch 4/20\n",
      "187/187 [==============================] - 0s 2ms/sample - loss: 0.3874 - acc: 0.8342\n",
      "Epoch 5/20\n",
      "187/187 [==============================] - 1s 3ms/sample - loss: 0.3297 - acc: 0.8824\n",
      "Epoch 6/20\n",
      "187/187 [==============================] - 0s 2ms/sample - loss: 0.2836 - acc: 0.9091\n",
      "Epoch 7/20\n",
      "187/187 [==============================] - 0s 2ms/sample - loss: 0.2452 - acc: 0.9305\n",
      "Epoch 8/20\n",
      "187/187 [==============================] - 0s 2ms/sample - loss: 0.2135 - acc: 0.9305\n",
      "Epoch 9/20\n",
      "187/187 [==============================] - 0s 2ms/sample - loss: 0.1850 - acc: 0.9519\n",
      "Epoch 10/20\n",
      "187/187 [==============================] - 0s 2ms/sample - loss: 0.1611 - acc: 0.9626 0s - loss: 0.1508 - acc: 0\n",
      "Epoch 11/20\n",
      "187/187 [==============================] - 0s 2ms/sample - loss: 0.1440 - acc: 0.9786\n",
      "Epoch 12/20\n",
      "187/187 [==============================] - 0s 2ms/sample - loss: 0.1192 - acc: 0.9840\n",
      "Epoch 13/20\n",
      "187/187 [==============================] - 0s 1ms/sample - loss: 0.1036 - acc: 0.9840\n",
      "Epoch 14/20\n",
      "187/187 [==============================] - 0s 1ms/sample - loss: 0.0905 - acc: 0.9840\n",
      "Epoch 15/20\n",
      "187/187 [==============================] - 0s 1ms/sample - loss: 0.0775 - acc: 0.9893\n",
      "Epoch 16/20\n",
      "187/187 [==============================] - 0s 1ms/sample - loss: 0.0650 - acc: 0.9947\n",
      "Epoch 17/20\n",
      "187/187 [==============================] - 0s 963us/sample - loss: 0.0543 - acc: 1.0000\n",
      "Epoch 18/20\n",
      "187/187 [==============================] - 0s 1ms/sample - loss: 0.0463 - acc: 1.0000\n",
      "Epoch 19/20\n",
      "187/187 [==============================] - 0s 872us/sample - loss: 0.0403 - acc: 1.0000\n",
      "Epoch 20/20\n",
      "187/187 [==============================] - 0s 856us/sample - loss: 0.0351 - acc: 1.0000\n",
      "21/21 [==============================] - 0s 9ms/sample - loss: 0.1719 - acc: 0.9524\n",
      "Epoch 1/20\n",
      "188/188 [==============================] - 1s 7ms/sample - loss: 0.6793 - acc: 0.5745\n",
      "Epoch 2/20\n",
      "188/188 [==============================] - 1s 4ms/sample - loss: 0.5029 - acc: 0.7819\n",
      "Epoch 3/20\n",
      "188/188 [==============================] - 0s 2ms/sample - loss: 0.4065 - acc: 0.8404\n",
      "Epoch 4/20\n",
      "188/188 [==============================] - 0s 3ms/sample - loss: 0.3368 - acc: 0.8670\n",
      "Epoch 5/20\n",
      "188/188 [==============================] - 0s 2ms/sample - loss: 0.2784 - acc: 0.8883\n",
      "Epoch 6/20\n",
      "188/188 [==============================] - 0s 2ms/sample - loss: 0.2286 - acc: 0.9255\n",
      "Epoch 7/20\n",
      "188/188 [==============================] - 0s 2ms/sample - loss: 0.1903 - acc: 0.9521\n",
      "Epoch 8/20\n",
      "188/188 [==============================] - 0s 2ms/sample - loss: 0.1577 - acc: 0.9681\n",
      "Epoch 9/20\n",
      "188/188 [==============================] - 1s 3ms/sample - loss: 0.1327 - acc: 0.9787\n",
      "Epoch 10/20\n",
      "188/188 [==============================] - 0s 2ms/sample - loss: 0.1095 - acc: 0.9894\n",
      "Epoch 11/20\n",
      "188/188 [==============================] - 0s 2ms/sample - loss: 0.0899 - acc: 0.9894\n",
      "Epoch 12/20\n",
      "188/188 [==============================] - 0s 2ms/sample - loss: 0.0719 - acc: 0.9947 0s - loss: 0.0632 - acc: 0.9\n",
      "Epoch 13/20\n",
      "188/188 [==============================] - 0s 2ms/sample - loss: 0.0612 - acc: 0.9947\n",
      "Epoch 14/20\n",
      "188/188 [==============================] - 0s 2ms/sample - loss: 0.0495 - acc: 1.0000\n",
      "Epoch 15/20\n",
      "188/188 [==============================] - 0s 2ms/sample - loss: 0.0402 - acc: 1.0000\n",
      "Epoch 16/20\n",
      "188/188 [==============================] - 0s 1ms/sample - loss: 0.0329 - acc: 1.0000\n",
      "Epoch 17/20\n",
      "188/188 [==============================] - 0s 1ms/sample - loss: 0.0269 - acc: 1.0000\n",
      "Epoch 18/20\n"
     ]
    },
    {
     "name": "stdout",
     "output_type": "stream",
     "text": [
      "188/188 [==============================] - 0s 1ms/sample - loss: 0.0226 - acc: 1.0000\n",
      "Epoch 19/20\n",
      "188/188 [==============================] - 0s 989us/sample - loss: 0.0192 - acc: 1.0000\n",
      "Epoch 20/20\n",
      "188/188 [==============================] - 0s 862us/sample - loss: 0.0164 - acc: 1.0000\n",
      "20/20 [==============================] - 0s 14ms/sample - loss: 0.6339 - acc: 0.8000\n",
      "Epoch 1/20\n",
      "188/188 [==============================] - 1s 5ms/sample - loss: 0.6124 - acc: 0.6809\n",
      "Epoch 2/20\n",
      "188/188 [==============================] - 0s 1ms/sample - loss: 0.5071 - acc: 0.8032\n",
      "Epoch 3/20\n",
      "188/188 [==============================] - 0s 809us/sample - loss: 0.4285 - acc: 0.8564\n",
      "Epoch 4/20\n",
      "188/188 [==============================] - 0s 883us/sample - loss: 0.3494 - acc: 0.8830\n",
      "Epoch 5/20\n",
      "188/188 [==============================] - 0s 1ms/sample - loss: 0.2883 - acc: 0.9362\n",
      "Epoch 6/20\n",
      "188/188 [==============================] - 0s 2ms/sample - loss: 0.2320 - acc: 0.9521\n",
      "Epoch 7/20\n",
      "188/188 [==============================] - 0s 926us/sample - loss: 0.1850 - acc: 0.9734\n",
      "Epoch 8/20\n",
      "188/188 [==============================] - 0s 984us/sample - loss: 0.1464 - acc: 0.9734\n",
      "Epoch 9/20\n",
      "188/188 [==============================] - 0s 979us/sample - loss: 0.1169 - acc: 0.9894\n",
      "Epoch 10/20\n",
      "188/188 [==============================] - 0s 803us/sample - loss: 0.0930 - acc: 0.9894\n",
      "Epoch 11/20\n",
      "188/188 [==============================] - 0s 745us/sample - loss: 0.0743 - acc: 0.9894\n",
      "Epoch 12/20\n",
      "188/188 [==============================] - 0s 729us/sample - loss: 0.0593 - acc: 0.9947\n",
      "Epoch 13/20\n",
      "188/188 [==============================] - 0s 771us/sample - loss: 0.0485 - acc: 1.0000\n",
      "Epoch 14/20\n",
      "188/188 [==============================] - 0s 2ms/sample - loss: 0.0390 - acc: 1.0000\n",
      "Epoch 15/20\n",
      "188/188 [==============================] - 0s 766us/sample - loss: 0.0321 - acc: 1.0000\n",
      "Epoch 16/20\n",
      "188/188 [==============================] - 0s 734us/sample - loss: 0.0269 - acc: 1.0000\n",
      "Epoch 17/20\n",
      "188/188 [==============================] - 0s 718us/sample - loss: 0.0219 - acc: 1.0000\n",
      "Epoch 18/20\n",
      "188/188 [==============================] - 0s 819us/sample - loss: 0.0184 - acc: 1.0000\n",
      "Epoch 19/20\n",
      "188/188 [==============================] - 0s 835us/sample - loss: 0.0150 - acc: 1.0000\n",
      "Epoch 20/20\n",
      "188/188 [==============================] - 0s 729us/sample - loss: 0.0127 - acc: 1.0000\n",
      "20/20 [==============================] - 0s 10ms/sample - loss: 0.7347 - acc: 0.7000\n",
      "Epoch 1/20\n",
      "188/188 [==============================] - 1s 4ms/sample - loss: 0.6536 - acc: 0.6223\n",
      "Epoch 2/20\n",
      "188/188 [==============================] - 0s 809us/sample - loss: 0.5168 - acc: 0.8032\n",
      "Epoch 3/20\n",
      "188/188 [==============================] - 0s 1ms/sample - loss: 0.4251 - acc: 0.8245\n",
      "Epoch 4/20\n",
      "188/188 [==============================] - 0s 1ms/sample - loss: 0.3518 - acc: 0.8670\n",
      "Epoch 5/20\n",
      "188/188 [==============================] - 0s 798us/sample - loss: 0.2932 - acc: 0.8883\n",
      "Epoch 6/20\n",
      "188/188 [==============================] - 0s 723us/sample - loss: 0.2459 - acc: 0.9149\n",
      "Epoch 7/20\n",
      "188/188 [==============================] - 0s 931us/sample - loss: 0.2046 - acc: 0.9362\n",
      "Epoch 8/20\n",
      "188/188 [==============================] - 0s 899us/sample - loss: 0.1698 - acc: 0.9787\n",
      "Epoch 9/20\n",
      "188/188 [==============================] - 0s 2ms/sample - loss: 0.1438 - acc: 0.9840 0s - loss: 0.1335 - acc: 0\n",
      "Epoch 10/20\n",
      "188/188 [==============================] - 0s 819us/sample - loss: 0.1193 - acc: 0.9947\n",
      "Epoch 11/20\n",
      "188/188 [==============================] - 0s 803us/sample - loss: 0.0974 - acc: 0.9947\n",
      "Epoch 12/20\n",
      "188/188 [==============================] - 0s 872us/sample - loss: 0.0818 - acc: 0.9947\n",
      "Epoch 13/20\n",
      "188/188 [==============================] - 0s 702us/sample - loss: 0.0662 - acc: 1.0000\n",
      "Epoch 14/20\n",
      "188/188 [==============================] - 0s 958us/sample - loss: 0.0550 - acc: 0.9947\n",
      "Epoch 15/20\n",
      "188/188 [==============================] - 0s 1ms/sample - loss: 0.0433 - acc: 1.0000\n",
      "Epoch 16/20\n",
      "188/188 [==============================] - 0s 2ms/sample - loss: 0.0359 - acc: 1.0000\n",
      "Epoch 17/20\n",
      "188/188 [==============================] - 0s 1ms/sample - loss: 0.0298 - acc: 1.0000\n",
      "Epoch 18/20\n",
      "188/188 [==============================] - 0s 872us/sample - loss: 0.0256 - acc: 1.0000\n",
      "Epoch 19/20\n",
      "188/188 [==============================] - 0s 782us/sample - loss: 0.0208 - acc: 1.0000\n",
      "Epoch 20/20\n",
      "188/188 [==============================] - 0s 883us/sample - loss: 0.0178 - acc: 1.0000\n",
      "20/20 [==============================] - 0s 19ms/sample - loss: 0.3795 - acc: 0.8500\n",
      "Smaller: 81.64% (9.67%)\n"
     ]
    }
   ],
   "source": [
    "# Step - 4.2\n",
    "\n",
    "# larger model\n",
    "def create_larger():\n",
    "    model = Sequential()\n",
    "    model.add(Dense(1024, input_dim=60, activation='relu'))\n",
    "    model.add(Dense(512, input_dim=60, activation='relu'))\n",
    "    model.add(Dense(30, input_dim=60, activation='relu'))\n",
    "    model.add(Dense(30, input_dim=60, activation='relu'))\n",
    "    model.add(Dense(1, activation='sigmoid'))\n",
    "    # Compile model, write code below\n",
    "    model.compile(loss='binary_crossentropy', optimizer='adam', metrics=['accuracy'])\n",
    "    return model\n",
    "estimators = []\n",
    "estimators.append(('standardize', StandardScaler()))\n",
    "estimators.append(('mlp', KerasClassifier(build_fn=create_larger, epochs=20, batch_size=5, verbose=1)))\n",
    "pipeline = Pipeline(estimators)\n",
    "kfold = StratifiedKFold(n_splits=10, shuffle=True, random_state=seed)\n",
    "results = cross_val_score(pipeline, X, encoded_Y, cv=kfold)\n",
    "print(\"Smaller: %.2f%% (%.2f%%)\" % (results.mean()*100, results.std()*100))\n",
    "\n",
    "# Smaller: 85.47% (8.28%)\n",
    "# End Of Step - 4.2"
   ]
  },
  {
   "cell_type": "code",
   "execution_count": 41,
   "metadata": {},
   "outputs": [
    {
     "data": {
      "text/plain": [
       "StratifiedKFold(n_splits=10, random_state=7, shuffle=True)"
      ]
     },
     "execution_count": 41,
     "metadata": {},
     "output_type": "execute_result"
    }
   ],
   "source": [
    "Pipeline"
   ]
  },
  {
   "cell_type": "code",
   "execution_count": 33,
   "metadata": {},
   "outputs": [
    {
     "data": {
      "text/plain": [
       "array([0.86363637, 1.        , 0.71428573, 0.85714287, 0.80952382,\n",
       "       0.80952382, 0.95238096, 0.80000001, 0.69999999, 0.89999998])"
      ]
     },
     "execution_count": 33,
     "metadata": {},
     "output_type": "execute_result"
    }
   ],
   "source": [
    "results"
   ]
  },
  {
   "cell_type": "code",
   "execution_count": 8,
   "metadata": {},
   "outputs": [
    {
     "data": {
      "text/plain": [
       "(208, 60)"
      ]
     },
     "execution_count": 8,
     "metadata": {},
     "output_type": "execute_result"
    }
   ],
   "source": [
    "X.shape"
   ]
  },
  {
   "cell_type": "code",
   "execution_count": 9,
   "metadata": {},
   "outputs": [
    {
     "data": {
      "text/plain": [
       "(208,)"
      ]
     },
     "execution_count": 9,
     "metadata": {},
     "output_type": "execute_result"
    }
   ],
   "source": [
    "Y.shape"
   ]
  },
  {
   "cell_type": "code",
   "execution_count": 10,
   "metadata": {},
   "outputs": [
    {
     "data": {
      "text/plain": [
       "array([0.0629, 0.1065, 0.1526, 0.1229, 0.1437, 0.119 , 0.0884, 0.0907,\n",
       "       0.2107, 0.3597, 0.5466, 0.5205, 0.5127, 0.5395, 0.6558, 0.8705,\n",
       "       0.9786, 0.9335, 0.7917, 0.7383, 0.6908, 0.385 , 0.0671, 0.0502,\n",
       "       0.2717, 0.2839, 0.2234, 0.1911, 0.0408, 0.2531, 0.1979, 0.1891,\n",
       "       0.2433, 0.1956, 0.2667, 0.134 , 0.1073, 0.2023, 0.1794, 0.0227,\n",
       "       0.1313, 0.1775, 0.1549, 0.1626, 0.0708, 0.0129, 0.0795, 0.0762,\n",
       "       0.0117, 0.0061, 0.0257, 0.0089, 0.0262, 0.0108, 0.0138, 0.0187,\n",
       "       0.023 , 0.0057, 0.0113, 0.0131])"
      ]
     },
     "execution_count": 10,
     "metadata": {},
     "output_type": "execute_result"
    }
   ],
   "source": [
    "X[100]"
   ]
  },
  {
   "cell_type": "code",
   "execution_count": 12,
   "metadata": {},
   "outputs": [
    {
     "data": {
      "text/plain": [
       "208"
      ]
     },
     "execution_count": 12,
     "metadata": {},
     "output_type": "execute_result"
    }
   ],
   "source": [
    "len(encoded_Y)"
   ]
  },
  {
   "cell_type": "code",
   "execution_count": 13,
   "metadata": {},
   "outputs": [
    {
     "data": {
      "text/plain": [
       "208"
      ]
     },
     "execution_count": 13,
     "metadata": {},
     "output_type": "execute_result"
    }
   ],
   "source": [
    "len(X)"
   ]
  },
  {
   "cell_type": "code",
   "execution_count": 14,
   "metadata": {},
   "outputs": [
    {
     "data": {
      "text/plain": [
       "array([[0.02  , 0.0371, 0.0428, ..., 0.0084, 0.009 , 0.0032],\n",
       "       [0.0453, 0.0523, 0.0843, ..., 0.0049, 0.0052, 0.0044],\n",
       "       [0.0262, 0.0582, 0.1099, ..., 0.0164, 0.0095, 0.0078],\n",
       "       ...,\n",
       "       [0.0522, 0.0437, 0.018 , ..., 0.0138, 0.0077, 0.0031],\n",
       "       [0.0303, 0.0353, 0.049 , ..., 0.0079, 0.0036, 0.0048],\n",
       "       [0.026 , 0.0363, 0.0136, ..., 0.0036, 0.0061, 0.0115]])"
      ]
     },
     "execution_count": 14,
     "metadata": {},
     "output_type": "execute_result"
    }
   ],
   "source": [
    "X"
   ]
  },
  {
   "cell_type": "code",
   "execution_count": 28,
   "metadata": {
    "scrolled": true
   },
   "outputs": [
    {
     "data": {
      "text/plain": [
       "array([[0.02  , 0.0371, 0.0428, 0.0207, 0.0954, 0.0986, 0.1539, 0.1601,\n",
       "        0.3109, 0.2111, 0.1609, 0.1582, 0.2238, 0.0645, 0.066 , 0.2273,\n",
       "        0.31  , 0.2999, 0.5078, 0.4797, 0.5783, 0.5071, 0.4328, 0.555 ,\n",
       "        0.6711, 0.6415, 0.7104, 0.808 , 0.6791, 0.3857, 0.1307, 0.2604,\n",
       "        0.5121, 0.7547, 0.8537, 0.8507, 0.6692, 0.6097, 0.4943, 0.2744,\n",
       "        0.051 , 0.2834, 0.2825, 0.4256, 0.2641, 0.1386, 0.1051, 0.1343,\n",
       "        0.0383, 0.0324, 0.0232, 0.0027, 0.0065, 0.0159, 0.0072, 0.0167,\n",
       "        0.018 , 0.0084, 0.009 , 0.0032],\n",
       "       [0.0453, 0.0523, 0.0843, 0.0689, 0.1183, 0.2583, 0.2156, 0.3481,\n",
       "        0.3337, 0.2872, 0.4918, 0.6552, 0.6919, 0.7797, 0.7464, 0.9444,\n",
       "        1.    , 0.8874, 0.8024, 0.7818, 0.5212, 0.4052, 0.3957, 0.3914,\n",
       "        0.325 , 0.32  , 0.3271, 0.2767, 0.4423, 0.2028, 0.3788, 0.2947,\n",
       "        0.1984, 0.2341, 0.1306, 0.4182, 0.3835, 0.1057, 0.184 , 0.197 ,\n",
       "        0.1674, 0.0583, 0.1401, 0.1628, 0.0621, 0.0203, 0.053 , 0.0742,\n",
       "        0.0409, 0.0061, 0.0125, 0.0084, 0.0089, 0.0048, 0.0094, 0.0191,\n",
       "        0.014 , 0.0049, 0.0052, 0.0044],\n",
       "       [0.0262, 0.0582, 0.1099, 0.1083, 0.0974, 0.228 , 0.2431, 0.3771,\n",
       "        0.5598, 0.6194, 0.6333, 0.706 , 0.5544, 0.532 , 0.6479, 0.6931,\n",
       "        0.6759, 0.7551, 0.8929, 0.8619, 0.7974, 0.6737, 0.4293, 0.3648,\n",
       "        0.5331, 0.2413, 0.507 , 0.8533, 0.6036, 0.8514, 0.8512, 0.5045,\n",
       "        0.1862, 0.2709, 0.4232, 0.3043, 0.6116, 0.6756, 0.5375, 0.4719,\n",
       "        0.4647, 0.2587, 0.2129, 0.2222, 0.2111, 0.0176, 0.1348, 0.0744,\n",
       "        0.013 , 0.0106, 0.0033, 0.0232, 0.0166, 0.0095, 0.018 , 0.0244,\n",
       "        0.0316, 0.0164, 0.0095, 0.0078],\n",
       "       [0.01  , 0.0171, 0.0623, 0.0205, 0.0205, 0.0368, 0.1098, 0.1276,\n",
       "        0.0598, 0.1264, 0.0881, 0.1992, 0.0184, 0.2261, 0.1729, 0.2131,\n",
       "        0.0693, 0.2281, 0.406 , 0.3973, 0.2741, 0.369 , 0.5556, 0.4846,\n",
       "        0.314 , 0.5334, 0.5256, 0.252 , 0.209 , 0.3559, 0.626 , 0.734 ,\n",
       "        0.612 , 0.3497, 0.3953, 0.3012, 0.5408, 0.8814, 0.9857, 0.9167,\n",
       "        0.6121, 0.5006, 0.321 , 0.3202, 0.4295, 0.3654, 0.2655, 0.1576,\n",
       "        0.0681, 0.0294, 0.0241, 0.0121, 0.0036, 0.015 , 0.0085, 0.0073,\n",
       "        0.005 , 0.0044, 0.004 , 0.0117],\n",
       "       [0.0762, 0.0666, 0.0481, 0.0394, 0.059 , 0.0649, 0.1209, 0.2467,\n",
       "        0.3564, 0.4459, 0.4152, 0.3952, 0.4256, 0.4135, 0.4528, 0.5326,\n",
       "        0.7306, 0.6193, 0.2032, 0.4636, 0.4148, 0.4292, 0.573 , 0.5399,\n",
       "        0.3161, 0.2285, 0.6995, 1.    , 0.7262, 0.4724, 0.5103, 0.5459,\n",
       "        0.2881, 0.0981, 0.1951, 0.4181, 0.4604, 0.3217, 0.2828, 0.243 ,\n",
       "        0.1979, 0.2444, 0.1847, 0.0841, 0.0692, 0.0528, 0.0357, 0.0085,\n",
       "        0.023 , 0.0046, 0.0156, 0.0031, 0.0054, 0.0105, 0.011 , 0.0015,\n",
       "        0.0072, 0.0048, 0.0107, 0.0094]])"
      ]
     },
     "execution_count": 28,
     "metadata": {},
     "output_type": "execute_result"
    }
   ],
   "source": [
    "X[:5]"
   ]
  },
  {
   "cell_type": "code",
   "execution_count": 35,
   "metadata": {},
   "outputs": [
    {
     "data": {
      "text/plain": [
       "(208, 61)"
      ]
     },
     "execution_count": 35,
     "metadata": {},
     "output_type": "execute_result"
    }
   ],
   "source": [
    "dataset.shape"
   ]
  },
  {
   "cell_type": "code",
   "execution_count": null,
   "metadata": {},
   "outputs": [],
   "source": []
  }
 ],
 "metadata": {
  "colab": {
   "name": "DL_1st_Project-Sonar-Dataset.ipynb",
   "provenance": []
  },
  "kernelspec": {
   "display_name": "Python 3",
   "language": "python",
   "name": "python3"
  },
  "language_info": {
   "codemirror_mode": {
    "name": "ipython",
    "version": 3
   },
   "file_extension": ".py",
   "mimetype": "text/x-python",
   "name": "python",
   "nbconvert_exporter": "python",
   "pygments_lexer": "ipython3",
   "version": "3.7.3"
  }
 },
 "nbformat": 4,
 "nbformat_minor": 1
}
