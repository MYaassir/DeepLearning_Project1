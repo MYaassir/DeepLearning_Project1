{
 "cells": [
  {
   "cell_type": "code",
   "execution_count": 1,
   "metadata": {
    "colab": {},
    "colab_type": "code",
    "id": "zefX_-cQE3Q8"
   },
   "outputs": [],
   "source": [
    "import numpy\n",
    "import pandas\n",
    "from tensorflow.keras.models import Sequential\n",
    "from tensorflow.keras.layers import Dense\n",
    "from tensorflow.keras.wrappers.scikit_learn import KerasClassifier\n",
    "from sklearn.model_selection import cross_val_score\n",
    "from sklearn.preprocessing import LabelEncoder\n",
    "from sklearn.model_selection import StratifiedKFold\n",
    "from sklearn.preprocessing import StandardScaler\n",
    "from sklearn.pipeline import Pipeline\n"
   ]
  },
  {
   "cell_type": "code",
   "execution_count": 3,
   "metadata": {
    "colab": {},
    "colab_type": "code",
    "id": "shsCHO2SE3RI"
   },
   "outputs": [],
   "source": [
    "# fix random seed for reproducibility\n",
    "seed = 7\n",
    "numpy.random.seed(seed)\n"
   ]
  },
  {
   "cell_type": "code",
   "execution_count": 4,
   "metadata": {
    "colab": {},
    "colab_type": "code",
    "id": "E3vqPoHUE3RL"
   },
   "outputs": [],
   "source": [
    "# load dataset\n",
    "dataframe = pandas.read_csv(\"sonar.csv\", header=None)\n",
    "dataset = dataframe.values\n",
    "# split into input (X) and output (Y) variables\n",
    "X = dataset[:,0:60].astype(float)\n",
    "Y = dataset[:,60]\n"
   ]
  },
  {
   "cell_type": "code",
   "execution_count": 5,
   "metadata": {
    "colab": {},
    "colab_type": "code",
    "id": "N2vSwkMQxtvQ"
   },
   "outputs": [],
   "source": [
    "encoder = LabelEncoder()\n",
    "encoder.fit(Y)\n",
    "encoded_Y = encoder.transform(Y)"
   ]
  },
  {
   "cell_type": "code",
   "execution_count": 6,
   "metadata": {
    "colab": {},
    "colab_type": "code",
    "id": "-RyVTryzE3RO"
   },
   "outputs": [],
   "source": [
    "# baseline model\n",
    "def create_baseline():\n",
    "# create model, write code below\n",
    "    model = Sequential()\n",
    "    model.add(Dense(60, input_dim=60, activation='relu'))\n",
    "    model.add(Dense(1, activation='sigmoid'))\n",
    "    # Compile model, write code below\n",
    "    model.compile(loss='binary_crossentropy', optimizer='adam', metrics=['accuracy'])\n",
    "    # Compile model, write code below\n",
    "    return model\n"
   ]
  },
  {
   "cell_type": "code",
   "execution_count": 7,
   "metadata": {
    "colab": {
     "base_uri": "https://localhost:8080/",
     "height": 34
    },
    "colab_type": "code",
    "id": "C1Yrxm2aE3RR",
    "outputId": "c1fd4d96-a3a4-4ae5-e6fd-1a4a088fa3f1"
   },
   "outputs": [
    {
     "name": "stdout",
     "output_type": "stream",
     "text": [
      "WARNING:tensorflow:From C:\\Users\\MYKIM\\Anaconda3\\lib\\site-packages\\tensorflow\\python\\ops\\init_ops.py:1251: calling VarianceScaling.__init__ (from tensorflow.python.ops.init_ops) with dtype is deprecated and will be removed in a future version.\n",
      "Instructions for updating:\n",
      "Call initializer instance with the dtype argument instead of passing it to the constructor\n",
      "WARNING:tensorflow:From C:\\Users\\MYKIM\\Anaconda3\\lib\\site-packages\\tensorflow\\python\\ops\\nn_impl.py:180: add_dispatch_support.<locals>.wrapper (from tensorflow.python.ops.array_ops) is deprecated and will be removed in a future version.\n",
      "Instructions for updating:\n",
      "Use tf.where in 2.0, which has the same broadcast rule as np.where\n",
      "Results: 83.14% (4.57%)\n"
     ]
    }
   ],
   "source": [
    "# evaluate model with standardized dataset\n",
    "estimator = KerasClassifier(build_fn=create_baseline, epochs=100, batch_size=5, verbose=0)\n",
    "kfold = StratifiedKFold(n_splits=10, shuffle=True, random_state=seed)\n",
    "results = cross_val_score(estimator, X,encoded_Y, cv=kfold)\n",
    "print(\"Results: %.2f%% (%.2f%%)\" % (results.mean()*100, results.std()*100))\n",
    "\n",
    "#End Of Step - 1 & 2\n",
    "#Results: 82.71% (9.51%)"
   ]
  },
  {
   "cell_type": "code",
   "execution_count": null,
   "metadata": {
    "colab": {},
    "colab_type": "code",
    "id": "paFbMZPVE3RV"
   },
   "outputs": [],
   "source": [
    "#Step - 3\n",
    "# evaluate baseline model with standardized dataset\n",
    "numpy.random.seed(seed)\n",
    "estimators = []\n",
    "estimators.append(('standardize', StandardScaler()))\n",
    "estimators.append(('mlp', KerasClassifier(build_fn=create_baseline, epochs=75, batch_size=5, verbose=0)))\n",
    "pipeline = Pipeline(estimators)\n",
    "kfold = StratifiedKFold(n_splits=10, shuffle=True, random_state=seed)\n",
    "results = cross_val_score(pipeline, X, encoded_Y, cv=kfold)\n",
    "print(\"Standardized: %.2f%% (%.2f%%)\" % (results.mean()*100, results.std()*100))\n",
    "\n",
    "\n",
    "#Standardized: 86.97% (6.17%)\n",
    "#End of Step - 3"
   ]
  },
  {
   "cell_type": "code",
   "execution_count": null,
   "metadata": {},
   "outputs": [],
   "source": [
    "# Step - 4.1\n",
    "\n",
    "# smaller model\n",
    "def create_smaller():\n",
    "    model = Sequential()\n",
    "    model.add(Dense(30, input_dim=60, activation='relu'))\n",
    "    model.add(Dense(1, activation='sigmoid'))\n",
    "    # Compile model, write code below\n",
    "    model.compile(loss='binary_crossentropy', optimizer='adam', metrics=['accuracy'])\n",
    "    return model\n",
    "estimators = []\n",
    "estimators.append(('standardize', StandardScaler()))\n",
    "estimators.append(('mlp', KerasClassifier(build_fn=create_smaller, epochs=100, batch_size=5, verbose=0)))\n",
    "pipeline = Pipeline(estimators)\n",
    "kfold = StratifiedKFold(n_splits=10, shuffle=True, random_state=seed)\n",
    "results = cross_val_score(pipeline, X, encoded_Y, cv=kfold)\n",
    "print(\"Smaller: %.2f%% (%.2f%%)\" % (results.mean()*100, results.std()*100))\n",
    "\n",
    "#Smaller: 85.59% (6.44%)\n",
    "#End of Step - 4.1"
   ]
  },
  {
   "cell_type": "code",
   "execution_count": 13,
   "metadata": {
    "scrolled": false
   },
   "outputs": [
    {
     "name": "stdout",
     "output_type": "stream",
     "text": [
      "Epoch 1/20\n",
      "186/186 - 9s - loss: 0.5161 - acc: 0.7527\n",
      "Epoch 2/20\n",
      "186/186 - 1s - loss: 0.1791 - acc: 0.9194\n",
      "Epoch 3/20\n",
      "186/186 - 1s - loss: 0.1186 - acc: 0.9839\n",
      "Epoch 4/20\n",
      "186/186 - 2s - loss: 0.0567 - acc: 0.9839\n",
      "Epoch 5/20\n",
      "186/186 - 1s - loss: 0.1144 - acc: 0.9624\n",
      "Epoch 6/20\n",
      "186/186 - 1s - loss: 0.1278 - acc: 0.9570\n",
      "Epoch 7/20\n",
      "186/186 - 1s - loss: 0.1157 - acc: 0.9731\n",
      "Epoch 8/20\n",
      "186/186 - 1s - loss: 0.0162 - acc: 0.9946\n",
      "Epoch 9/20\n",
      "186/186 - 1s - loss: 0.0138 - acc: 0.9946\n",
      "Epoch 10/20\n",
      "186/186 - 1s - loss: 0.0019 - acc: 1.0000\n",
      "Epoch 11/20\n",
      "186/186 - 1s - loss: 1.9931e-04 - acc: 1.0000\n",
      "Epoch 12/20\n",
      "186/186 - 1s - loss: 5.1220e-05 - acc: 1.0000\n",
      "Epoch 13/20\n",
      "186/186 - 1s - loss: 3.9453e-05 - acc: 1.0000\n",
      "Epoch 14/20\n",
      "186/186 - 1s - loss: 2.9777e-05 - acc: 1.0000\n",
      "Epoch 15/20\n",
      "186/186 - 1s - loss: 1.9853e-05 - acc: 1.0000\n",
      "Epoch 16/20\n",
      "186/186 - 1s - loss: 1.3213e-05 - acc: 1.0000\n",
      "Epoch 17/20\n",
      "186/186 - 1s - loss: 9.1992e-06 - acc: 1.0000\n",
      "Epoch 18/20\n",
      "186/186 - 1s - loss: 7.0956e-06 - acc: 1.0000\n",
      "Epoch 19/20\n",
      "186/186 - 1s - loss: 5.6723e-06 - acc: 1.0000\n",
      "Epoch 20/20\n",
      "186/186 - 1s - loss: 4.7097e-06 - acc: 1.0000\n",
      "22/22 - 1s - loss: 0.7983 - acc: 0.8636\n",
      "Epoch 1/20\n",
      "187/187 - 2s - loss: 0.4917 - acc: 0.7487\n",
      "Epoch 2/20\n",
      "187/187 - 1s - loss: 0.2166 - acc: 0.9091\n",
      "Epoch 3/20\n",
      "187/187 - 1s - loss: 0.2380 - acc: 0.9091\n",
      "Epoch 4/20\n",
      "187/187 - 1s - loss: 0.0763 - acc: 0.9733\n",
      "Epoch 5/20\n",
      "187/187 - 1s - loss: 0.0385 - acc: 0.9840\n",
      "Epoch 6/20\n",
      "187/187 - 1s - loss: 0.1700 - acc: 0.9572\n",
      "Epoch 7/20\n",
      "187/187 - 1s - loss: 0.0998 - acc: 0.9679\n",
      "Epoch 8/20\n",
      "187/187 - 2s - loss: 0.0220 - acc: 0.9947\n",
      "Epoch 9/20\n",
      "187/187 - 1s - loss: 0.0079 - acc: 1.0000\n",
      "Epoch 10/20\n",
      "187/187 - 1s - loss: 7.7941e-04 - acc: 1.0000\n",
      "Epoch 11/20\n",
      "187/187 - 1s - loss: 2.7073e-04 - acc: 1.0000\n",
      "Epoch 12/20\n",
      "187/187 - 1s - loss: 1.6005e-04 - acc: 1.0000\n",
      "Epoch 13/20\n",
      "187/187 - 1s - loss: 1.0962e-04 - acc: 1.0000\n",
      "Epoch 14/20\n",
      "187/187 - 1s - loss: 7.5989e-05 - acc: 1.0000\n",
      "Epoch 15/20\n",
      "187/187 - 1s - loss: 5.5154e-05 - acc: 1.0000\n",
      "Epoch 16/20\n",
      "187/187 - 1s - loss: 4.0406e-05 - acc: 1.0000\n",
      "Epoch 17/20\n",
      "187/187 - 1s - loss: 3.0796e-05 - acc: 1.0000\n",
      "Epoch 18/20\n",
      "187/187 - 1s - loss: 2.1503e-05 - acc: 1.0000\n",
      "Epoch 19/20\n",
      "187/187 - 1s - loss: 1.3794e-05 - acc: 1.0000\n",
      "Epoch 20/20\n",
      "187/187 - 1s - loss: 9.4379e-06 - acc: 1.0000\n",
      "21/21 - 1s - loss: 0.5407 - acc: 0.9524\n",
      "Epoch 1/20\n",
      "187/187 - 2s - loss: 0.5488 - acc: 0.7326\n",
      "Epoch 2/20\n",
      "187/187 - 1s - loss: 0.2939 - acc: 0.8770\n",
      "Epoch 3/20\n",
      "187/187 - 1s - loss: 0.1217 - acc: 0.9465\n",
      "Epoch 4/20\n",
      "187/187 - 1s - loss: 0.1125 - acc: 0.9679\n",
      "Epoch 5/20\n",
      "187/187 - 1s - loss: 0.0717 - acc: 0.9626\n",
      "Epoch 6/20\n",
      "187/187 - 1s - loss: 0.0646 - acc: 0.9893\n",
      "Epoch 7/20\n",
      "187/187 - 1s - loss: 0.0375 - acc: 0.9893\n",
      "Epoch 8/20\n",
      "187/187 - 1s - loss: 0.0027 - acc: 1.0000\n",
      "Epoch 9/20\n",
      "187/187 - 1s - loss: 1.8470e-04 - acc: 1.0000\n",
      "Epoch 10/20\n",
      "187/187 - 0s - loss: 8.4839e-05 - acc: 1.0000\n",
      "Epoch 11/20\n",
      "187/187 - 0s - loss: 5.3974e-05 - acc: 1.0000\n",
      "Epoch 12/20\n",
      "187/187 - 1s - loss: 3.7718e-05 - acc: 1.0000\n",
      "Epoch 13/20\n",
      "187/187 - 1s - loss: 2.7575e-05 - acc: 1.0000\n",
      "Epoch 14/20\n",
      "187/187 - 1s - loss: 2.1697e-05 - acc: 1.0000\n",
      "Epoch 15/20\n",
      "187/187 - 1s - loss: 1.7560e-05 - acc: 1.0000\n",
      "Epoch 16/20\n",
      "187/187 - 1s - loss: 1.4441e-05 - acc: 1.0000\n",
      "Epoch 17/20\n",
      "187/187 - 1s - loss: 1.2079e-05 - acc: 1.0000\n",
      "Epoch 18/20\n",
      "187/187 - 1s - loss: 1.0307e-05 - acc: 1.0000\n",
      "Epoch 19/20\n",
      "187/187 - 1s - loss: 8.9762e-06 - acc: 1.0000\n",
      "Epoch 20/20\n",
      "187/187 - 1s - loss: 7.8278e-06 - acc: 1.0000\n",
      "21/21 - 1s - loss: 1.5196 - acc: 0.8095\n",
      "Epoch 1/20\n",
      "187/187 - 2s - loss: 0.5775 - acc: 0.6952\n",
      "Epoch 2/20\n",
      "187/187 - 1s - loss: 0.2544 - acc: 0.8877\n",
      "Epoch 3/20\n",
      "187/187 - 1s - loss: 0.1630 - acc: 0.9358\n",
      "Epoch 4/20\n",
      "187/187 - 1s - loss: 0.0934 - acc: 0.9626\n",
      "Epoch 5/20\n",
      "187/187 - 1s - loss: 0.0281 - acc: 0.9947\n",
      "Epoch 6/20\n",
      "187/187 - 1s - loss: 0.0198 - acc: 0.9947\n",
      "Epoch 7/20\n",
      "187/187 - 1s - loss: 0.1261 - acc: 0.9733\n",
      "Epoch 8/20\n",
      "187/187 - 1s - loss: 0.0574 - acc: 0.9786\n",
      "Epoch 9/20\n",
      "187/187 - 1s - loss: 0.0791 - acc: 0.9679\n",
      "Epoch 10/20\n",
      "187/187 - 2s - loss: 0.1097 - acc: 0.9786\n",
      "Epoch 11/20\n",
      "187/187 - 1s - loss: 0.0637 - acc: 0.9947\n",
      "Epoch 12/20\n",
      "187/187 - 1s - loss: 0.0011 - acc: 1.0000\n",
      "Epoch 13/20\n",
      "187/187 - 1s - loss: 9.0494e-05 - acc: 1.0000\n",
      "Epoch 14/20\n",
      "187/187 - 1s - loss: 5.7342e-05 - acc: 1.0000\n",
      "Epoch 15/20\n",
      "187/187 - 1s - loss: 3.3078e-05 - acc: 1.0000\n",
      "Epoch 16/20\n",
      "187/187 - 1s - loss: 2.3239e-05 - acc: 1.0000\n",
      "Epoch 17/20\n",
      "187/187 - 1s - loss: 1.7825e-05 - acc: 1.0000\n",
      "Epoch 18/20\n",
      "187/187 - 2s - loss: 1.4059e-05 - acc: 1.0000\n",
      "Epoch 19/20\n",
      "187/187 - 1s - loss: 1.1655e-05 - acc: 1.0000\n",
      "Epoch 20/20\n",
      "187/187 - 2s - loss: 9.7634e-06 - acc: 1.0000\n",
      "21/21 - 1s - loss: 1.5748 - acc: 0.8095\n",
      "Epoch 1/20\n",
      "187/187 - 1s - loss: 0.5761 - acc: 0.6684\n",
      "Epoch 2/20\n",
      "187/187 - 2s - loss: 0.2893 - acc: 0.8342\n",
      "Epoch 3/20\n",
      "187/187 - 1s - loss: 0.2024 - acc: 0.9251\n",
      "Epoch 4/20\n",
      "187/187 - 1s - loss: 0.1059 - acc: 0.9572\n",
      "Epoch 5/20\n",
      "187/187 - 1s - loss: 0.0694 - acc: 0.9840\n",
      "Epoch 6/20\n",
      "187/187 - 1s - loss: 0.0511 - acc: 0.9786\n",
      "Epoch 7/20\n",
      "187/187 - 1s - loss: 0.0597 - acc: 0.9893\n",
      "Epoch 8/20\n",
      "187/187 - 1s - loss: 0.0889 - acc: 0.9679\n",
      "Epoch 9/20\n",
      "187/187 - 1s - loss: 0.0357 - acc: 0.9893\n",
      "Epoch 10/20\n",
      "187/187 - 1s - loss: 0.0073 - acc: 0.9947\n",
      "Epoch 11/20\n",
      "187/187 - 1s - loss: 0.0396 - acc: 0.9947\n",
      "Epoch 12/20\n",
      "187/187 - 2s - loss: 0.1197 - acc: 0.9572\n",
      "Epoch 13/20\n",
      "187/187 - 1s - loss: 0.0081 - acc: 1.0000\n",
      "Epoch 14/20\n",
      "187/187 - 1s - loss: 1.6707e-04 - acc: 1.0000\n",
      "Epoch 15/20\n",
      "187/187 - 1s - loss: 8.2295e-05 - acc: 1.0000\n",
      "Epoch 16/20\n",
      "187/187 - 1s - loss: 6.3781e-05 - acc: 1.0000\n",
      "Epoch 17/20\n",
      "187/187 - 1s - loss: 5.1822e-05 - acc: 1.0000\n",
      "Epoch 18/20\n",
      "187/187 - 1s - loss: 4.3738e-05 - acc: 1.0000\n",
      "Epoch 19/20\n",
      "187/187 - 1s - loss: 3.6536e-05 - acc: 1.0000\n",
      "Epoch 20/20\n",
      "187/187 - 1s - loss: 3.1757e-05 - acc: 1.0000\n",
      "21/21 - 1s - loss: 0.6094 - acc: 0.8095\n",
      "Epoch 1/20\n",
      "187/187 - 2s - loss: 0.5472 - acc: 0.6578\n",
      "Epoch 2/20\n",
      "187/187 - 1s - loss: 0.2685 - acc: 0.8824\n",
      "Epoch 3/20\n",
      "187/187 - 1s - loss: 0.1695 - acc: 0.9412\n",
      "Epoch 4/20\n",
      "187/187 - 1s - loss: 0.1134 - acc: 0.9572\n",
      "Epoch 5/20\n",
      "187/187 - 1s - loss: 0.0983 - acc: 0.9679\n",
      "Epoch 6/20\n",
      "187/187 - 1s - loss: 0.0020 - acc: 1.0000\n",
      "Epoch 7/20\n",
      "187/187 - 1s - loss: 3.1072e-04 - acc: 1.0000\n",
      "Epoch 8/20\n",
      "187/187 - 1s - loss: 9.9094e-05 - acc: 1.0000\n",
      "Epoch 9/20\n",
      "187/187 - 1s - loss: 7.0774e-05 - acc: 1.0000\n",
      "Epoch 10/20\n",
      "187/187 - 1s - loss: 4.9955e-05 - acc: 1.0000\n",
      "Epoch 11/20\n",
      "187/187 - 1s - loss: 3.8148e-05 - acc: 1.0000\n",
      "Epoch 12/20\n",
      "187/187 - 1s - loss: 2.9530e-05 - acc: 1.0000\n",
      "Epoch 13/20\n",
      "187/187 - 1s - loss: 2.3052e-05 - acc: 1.0000\n",
      "Epoch 14/20\n",
      "187/187 - 1s - loss: 1.8369e-05 - acc: 1.0000\n",
      "Epoch 15/20\n",
      "187/187 - 1s - loss: 1.5055e-05 - acc: 1.0000\n",
      "Epoch 16/20\n",
      "187/187 - 1s - loss: 1.2465e-05 - acc: 1.0000\n",
      "Epoch 17/20\n",
      "187/187 - 1s - loss: 1.0561e-05 - acc: 1.0000\n",
      "Epoch 18/20\n",
      "187/187 - 1s - loss: 8.8154e-06 - acc: 1.0000\n",
      "Epoch 19/20\n",
      "187/187 - 0s - loss: 7.6914e-06 - acc: 1.0000\n",
      "Epoch 20/20\n",
      "187/187 - 1s - loss: 6.5863e-06 - acc: 1.0000\n",
      "21/21 - 0s - loss: 2.0370 - acc: 0.7143\n",
      "Epoch 1/20\n",
      "187/187 - 3s - loss: 0.5613 - acc: 0.7112\n",
      "Epoch 2/20\n",
      "187/187 - 1s - loss: 0.2730 - acc: 0.8984\n",
      "Epoch 3/20\n",
      "187/187 - 1s - loss: 0.1943 - acc: 0.9144\n",
      "Epoch 4/20\n",
      "187/187 - 1s - loss: 0.0728 - acc: 0.9786\n",
      "Epoch 5/20\n",
      "187/187 - 1s - loss: 0.0149 - acc: 0.9947\n",
      "Epoch 6/20\n",
      "187/187 - 1s - loss: 0.2301 - acc: 0.9465\n",
      "Epoch 7/20\n",
      "187/187 - 0s - loss: 0.1548 - acc: 0.9572\n",
      "Epoch 8/20\n",
      "187/187 - 1s - loss: 0.0431 - acc: 0.9893\n",
      "Epoch 9/20\n",
      "187/187 - 0s - loss: 0.1221 - acc: 0.9679\n",
      "Epoch 10/20\n",
      "187/187 - 0s - loss: 0.0526 - acc: 0.9840\n",
      "Epoch 11/20\n",
      "187/187 - 1s - loss: 0.0178 - acc: 0.9947\n",
      "Epoch 12/20\n",
      "187/187 - 1s - loss: 0.0032 - acc: 1.0000\n",
      "Epoch 13/20\n",
      "187/187 - 1s - loss: 2.6150e-04 - acc: 1.0000\n",
      "Epoch 14/20\n",
      "187/187 - 1s - loss: 1.5148e-04 - acc: 1.0000\n",
      "Epoch 15/20\n",
      "187/187 - 1s - loss: 7.9330e-05 - acc: 1.0000\n",
      "Epoch 16/20\n",
      "187/187 - 1s - loss: 4.2354e-05 - acc: 1.0000\n",
      "Epoch 17/20\n",
      "187/187 - 1s - loss: 2.5350e-05 - acc: 1.0000\n",
      "Epoch 18/20\n",
      "187/187 - 1s - loss: 1.7662e-05 - acc: 1.0000\n",
      "Epoch 19/20\n",
      "187/187 - 1s - loss: 1.2691e-05 - acc: 1.0000\n",
      "Epoch 20/20\n",
      "187/187 - 1s - loss: 1.0010e-05 - acc: 1.0000\n",
      "21/21 - 0s - loss: 0.4802 - acc: 0.9048\n",
      "Epoch 1/20\n",
      "188/188 - 2s - loss: 0.4763 - acc: 0.7766\n",
      "Epoch 2/20\n",
      "188/188 - 2s - loss: 0.1878 - acc: 0.9043\n",
      "Epoch 3/20\n",
      "188/188 - 1s - loss: 0.1207 - acc: 0.9628\n"
     ]
    },
    {
     "name": "stdout",
     "output_type": "stream",
     "text": [
      "Epoch 4/20\n",
      "188/188 - 2s - loss: 0.0509 - acc: 0.9840\n",
      "Epoch 5/20\n",
      "188/188 - 1s - loss: 0.1101 - acc: 0.9734\n",
      "Epoch 6/20\n",
      "188/188 - 1s - loss: 0.0905 - acc: 0.9574\n",
      "Epoch 7/20\n",
      "188/188 - 2s - loss: 0.0701 - acc: 0.9787\n",
      "Epoch 8/20\n",
      "188/188 - 1s - loss: 0.0585 - acc: 0.9840\n",
      "Epoch 9/20\n",
      "188/188 - 1s - loss: 0.0096 - acc: 0.9947\n",
      "Epoch 10/20\n",
      "188/188 - 1s - loss: 3.2653e-04 - acc: 1.0000\n",
      "Epoch 11/20\n",
      "188/188 - 1s - loss: 1.5642e-04 - acc: 1.0000\n",
      "Epoch 12/20\n",
      "188/188 - 1s - loss: 1.1777e-04 - acc: 1.0000\n",
      "Epoch 13/20\n",
      "188/188 - 1s - loss: 8.6151e-05 - acc: 1.0000\n",
      "Epoch 14/20\n",
      "188/188 - 1s - loss: 6.7053e-05 - acc: 1.0000\n",
      "Epoch 15/20\n",
      "188/188 - 1s - loss: 5.2611e-05 - acc: 1.0000\n",
      "Epoch 16/20\n",
      "188/188 - 1s - loss: 3.8745e-05 - acc: 1.0000\n",
      "Epoch 17/20\n",
      "188/188 - 1s - loss: 2.7112e-05 - acc: 1.0000\n",
      "Epoch 18/20\n",
      "188/188 - 1s - loss: 1.8705e-05 - acc: 1.0000\n",
      "Epoch 19/20\n",
      "188/188 - 1s - loss: 1.3875e-05 - acc: 1.0000\n",
      "Epoch 20/20\n",
      "188/188 - 2s - loss: 1.0804e-05 - acc: 1.0000\n",
      "20/20 - 1s - loss: 1.5893 - acc: 0.8000\n",
      "Epoch 1/20\n",
      "188/188 - 2s - loss: 0.5427 - acc: 0.6702\n",
      "Epoch 2/20\n",
      "188/188 - 1s - loss: 0.2271 - acc: 0.8936\n",
      "Epoch 3/20\n",
      "188/188 - 1s - loss: 0.2013 - acc: 0.9202\n",
      "Epoch 4/20\n",
      "188/188 - 1s - loss: 0.1045 - acc: 0.9681\n",
      "Epoch 5/20\n",
      "188/188 - 1s - loss: 0.1026 - acc: 0.9681\n",
      "Epoch 6/20\n",
      "188/188 - 1s - loss: 0.0811 - acc: 0.9681\n",
      "Epoch 7/20\n",
      "188/188 - 1s - loss: 0.0578 - acc: 0.9787\n",
      "Epoch 8/20\n",
      "188/188 - 1s - loss: 0.0028 - acc: 1.0000\n",
      "Epoch 9/20\n",
      "188/188 - 1s - loss: 1.6517e-04 - acc: 1.0000\n",
      "Epoch 10/20\n",
      "188/188 - 2s - loss: 8.3885e-05 - acc: 1.0000\n",
      "Epoch 11/20\n",
      "188/188 - 1s - loss: 3.9777e-05 - acc: 1.0000\n",
      "Epoch 12/20\n",
      "188/188 - 1s - loss: 1.7843e-05 - acc: 1.0000\n",
      "Epoch 13/20\n",
      "188/188 - 1s - loss: 1.0520e-05 - acc: 1.0000\n",
      "Epoch 14/20\n",
      "188/188 - 1s - loss: 7.1534e-06 - acc: 1.0000\n",
      "Epoch 15/20\n",
      "188/188 - 1s - loss: 5.5976e-06 - acc: 1.0000\n",
      "Epoch 16/20\n",
      "188/188 - 1s - loss: 4.4096e-06 - acc: 1.0000\n",
      "Epoch 17/20\n",
      "188/188 - 1s - loss: 3.6940e-06 - acc: 1.0000\n",
      "Epoch 18/20\n",
      "188/188 - 1s - loss: 3.1450e-06 - acc: 1.0000\n",
      "Epoch 19/20\n",
      "188/188 - 1s - loss: 2.6899e-06 - acc: 1.0000\n",
      "Epoch 20/20\n",
      "188/188 - 1s - loss: 2.3767e-06 - acc: 1.0000\n",
      "20/20 - 1s - loss: 4.7855 - acc: 0.7000\n",
      "Epoch 1/20\n",
      "188/188 - 2s - loss: 0.5466 - acc: 0.7287\n",
      "Epoch 2/20\n",
      "188/188 - 1s - loss: 0.2375 - acc: 0.9096\n",
      "Epoch 3/20\n",
      "188/188 - 1s - loss: 0.0715 - acc: 0.9894\n",
      "Epoch 4/20\n",
      "188/188 - 1s - loss: 0.1423 - acc: 0.9521\n",
      "Epoch 5/20\n",
      "188/188 - 1s - loss: 0.0696 - acc: 0.9734\n",
      "Epoch 6/20\n",
      "188/188 - 1s - loss: 0.0313 - acc: 0.9894\n",
      "Epoch 7/20\n",
      "188/188 - 1s - loss: 0.0718 - acc: 0.9840\n",
      "Epoch 8/20\n",
      "188/188 - 1s - loss: 0.1147 - acc: 0.9628\n",
      "Epoch 9/20\n",
      "188/188 - 1s - loss: 0.0651 - acc: 0.9734\n",
      "Epoch 10/20\n",
      "188/188 - 1s - loss: 0.0016 - acc: 1.0000\n",
      "Epoch 11/20\n",
      "188/188 - 1s - loss: 3.4531e-04 - acc: 1.0000\n",
      "Epoch 12/20\n",
      "188/188 - 1s - loss: 2.2111e-04 - acc: 1.0000\n",
      "Epoch 13/20\n",
      "188/188 - 1s - loss: 1.5361e-04 - acc: 1.0000\n",
      "Epoch 14/20\n",
      "188/188 - 1s - loss: 1.1224e-04 - acc: 1.0000\n",
      "Epoch 15/20\n",
      "188/188 - 1s - loss: 8.4341e-05 - acc: 1.0000\n",
      "Epoch 16/20\n",
      "188/188 - 1s - loss: 6.5223e-05 - acc: 1.0000\n",
      "Epoch 17/20\n",
      "188/188 - 1s - loss: 5.2405e-05 - acc: 1.0000\n",
      "Epoch 18/20\n",
      "188/188 - 1s - loss: 4.2392e-05 - acc: 1.0000\n",
      "Epoch 19/20\n",
      "188/188 - 1s - loss: 3.4974e-05 - acc: 1.0000\n",
      "Epoch 20/20\n",
      "188/188 - 1s - loss: 2.9252e-05 - acc: 1.0000\n",
      "20/20 - 1s - loss: 0.0056 - acc: 1.0000\n"
     ]
    },
    {
     "ename": "NameError",
     "evalue": "name 'validation' is not defined",
     "output_type": "error",
     "traceback": [
      "\u001b[1;31m---------------------------------------------------------------------------\u001b[0m",
      "\u001b[1;31mNameError\u001b[0m                                 Traceback (most recent call last)",
      "\u001b[1;32m<ipython-input-13-e109f5a7f96e>\u001b[0m in \u001b[0;36m<module>\u001b[1;34m\u001b[0m\n\u001b[0;32m     19\u001b[0m \u001b[0mresults\u001b[0m \u001b[1;33m=\u001b[0m \u001b[0mcross_val_score\u001b[0m\u001b[1;33m(\u001b[0m\u001b[0mpipeline\u001b[0m\u001b[1;33m,\u001b[0m \u001b[0mX\u001b[0m\u001b[1;33m,\u001b[0m \u001b[0mencoded_Y\u001b[0m\u001b[1;33m,\u001b[0m \u001b[0mcv\u001b[0m\u001b[1;33m=\u001b[0m\u001b[0mkfold\u001b[0m\u001b[1;33m)\u001b[0m\u001b[1;33m\u001b[0m\u001b[1;33m\u001b[0m\u001b[0m\n\u001b[0;32m     20\u001b[0m \u001b[1;31m#validation = GridSearchCV(estimator, param_grid)\u001b[0m\u001b[1;33m\u001b[0m\u001b[1;33m\u001b[0m\u001b[1;33m\u001b[0m\u001b[0m\n\u001b[1;32m---> 21\u001b[1;33m \u001b[0mscore\u001b[0m \u001b[1;33m=\u001b[0m \u001b[0mcross_val_score\u001b[0m\u001b[1;33m(\u001b[0m\u001b[0mvalidation\u001b[0m\u001b[1;33m,\u001b[0m \u001b[0mX\u001b[0m\u001b[1;33m,\u001b[0m \u001b[0my\u001b[0m\u001b[1;33m)\u001b[0m\u001b[1;33m\u001b[0m\u001b[1;33m\u001b[0m\u001b[0m\n\u001b[0m\u001b[0;32m     22\u001b[0m \u001b[0mprint\u001b[0m\u001b[1;33m(\u001b[0m\u001b[1;34m\"Smaller: %.2f%% (%.2f%%)\"\u001b[0m \u001b[1;33m%\u001b[0m \u001b[1;33m(\u001b[0m\u001b[0mresults\u001b[0m\u001b[1;33m.\u001b[0m\u001b[0mmean\u001b[0m\u001b[1;33m(\u001b[0m\u001b[1;33m)\u001b[0m\u001b[1;33m*\u001b[0m\u001b[1;36m100\u001b[0m\u001b[1;33m,\u001b[0m \u001b[0mresults\u001b[0m\u001b[1;33m.\u001b[0m\u001b[0mstd\u001b[0m\u001b[1;33m(\u001b[0m\u001b[1;33m)\u001b[0m\u001b[1;33m*\u001b[0m\u001b[1;36m100\u001b[0m\u001b[1;33m)\u001b[0m\u001b[1;33m)\u001b[0m\u001b[1;33m\u001b[0m\u001b[1;33m\u001b[0m\u001b[0m\n\u001b[0;32m     23\u001b[0m \u001b[1;33m\u001b[0m\u001b[0m\n",
      "\u001b[1;31mNameError\u001b[0m: name 'validation' is not defined"
     ]
    }
   ],
   "source": [
    "# Step - 4.2\n",
    "\n",
    "# larger model\n",
    "def create_larger():\n",
    "    model = Sequential()\n",
    "    model.add(Dense(1024, input_dim=60, activation='relu'))\n",
    "    model.add(Dense(512, input_dim=60, activation='relu'))\n",
    "    model.add(Dense(256, input_dim=60, activation='relu'))\n",
    "    model.add(Dense(128, input_dim=60, activation='relu'))\n",
    "    model.add(Dense(1, activation='sigmoid'))\n",
    "    # Compile model, write code below\n",
    "    model.compile(loss='binary_crossentropy', optimizer='adam', metrics=['accuracy'])\n",
    "    return model\n",
    "estimators = []\n",
    "estimators.append(('standardize', StandardScaler()))\n",
    "estimators.append(('mlp', KerasClassifier(build_fn=create_larger, epochs=20, batch_size=5, verbose=2)))\n",
    "pipeline = Pipeline(estimators)\n",
    "kfold = StratifiedKFold(n_splits=10, shuffle=True, random_state=seed)\n",
    "results = cross_val_score(pipeline, X, encoded_Y, cv=kfold)\n",
    "#validation = GridSearchCV(estimator, param_grid)\n",
    "score = cross_val_score(validation, X, y)\n",
    "print(\"Smaller: %.2f%% (%.2f%%)\" % (results.mean()*100, results.std()*100))\n",
    "\n",
    "# Smaller: 85.47% (8.28%)\n",
    "# End Of Step - 4.2"
   ]
  },
  {
   "cell_type": "code",
   "execution_count": 10,
   "metadata": {},
   "outputs": [
    {
     "ename": "TypeError",
     "evalue": "'KerasClassifier' object is not callable",
     "output_type": "error",
     "traceback": [
      "\u001b[1;31m---------------------------------------------------------------------------\u001b[0m",
      "\u001b[1;31mTypeError\u001b[0m                                 Traceback (most recent call last)",
      "\u001b[1;32m<ipython-input-10-6123b7ce8eb1>\u001b[0m in \u001b[0;36m<module>\u001b[1;34m\u001b[0m\n\u001b[1;32m----> 1\u001b[1;33m \u001b[0mestimator\u001b[0m\u001b[1;33m(\u001b[0m\u001b[1;33m)\u001b[0m\u001b[1;33m\u001b[0m\u001b[1;33m\u001b[0m\u001b[0m\n\u001b[0m",
      "\u001b[1;31mTypeError\u001b[0m: 'KerasClassifier' object is not callable"
     ]
    }
   ],
   "source": [
    "estimator()"
   ]
  },
  {
   "cell_type": "code",
   "execution_count": 12,
   "metadata": {},
   "outputs": [
    {
     "ename": "TypeError",
     "evalue": "'list' object is not callable",
     "output_type": "error",
     "traceback": [
      "\u001b[1;31m---------------------------------------------------------------------------\u001b[0m",
      "\u001b[1;31mTypeError\u001b[0m                                 Traceback (most recent call last)",
      "\u001b[1;32m<ipython-input-12-da63cdc554f2>\u001b[0m in \u001b[0;36m<module>\u001b[1;34m\u001b[0m\n\u001b[1;32m----> 1\u001b[1;33m \u001b[0mestimators\u001b[0m\u001b[1;33m(\u001b[0m\u001b[1;33m)\u001b[0m\u001b[1;33m\u001b[0m\u001b[1;33m\u001b[0m\u001b[0m\n\u001b[0m",
      "\u001b[1;31mTypeError\u001b[0m: 'list' object is not callable"
     ]
    }
   ],
   "source": [
    "estimators()"
   ]
  },
  {
   "cell_type": "code",
   "execution_count": 41,
   "metadata": {},
   "outputs": [
    {
     "data": {
      "text/plain": [
       "StratifiedKFold(n_splits=10, random_state=7, shuffle=True)"
      ]
     },
     "execution_count": 41,
     "metadata": {},
     "output_type": "execute_result"
    }
   ],
   "source": [
    "Pipeline"
   ]
  },
  {
   "cell_type": "code",
   "execution_count": null,
   "metadata": {},
   "outputs": [],
   "source": []
  },
  {
   "cell_type": "code",
   "execution_count": 33,
   "metadata": {},
   "outputs": [
    {
     "data": {
      "text/plain": [
       "array([0.86363637, 1.        , 0.71428573, 0.85714287, 0.80952382,\n",
       "       0.80952382, 0.95238096, 0.80000001, 0.69999999, 0.89999998])"
      ]
     },
     "execution_count": 33,
     "metadata": {},
     "output_type": "execute_result"
    }
   ],
   "source": [
    "results"
   ]
  },
  {
   "cell_type": "code",
   "execution_count": 8,
   "metadata": {},
   "outputs": [
    {
     "data": {
      "text/plain": [
       "(208, 60)"
      ]
     },
     "execution_count": 8,
     "metadata": {},
     "output_type": "execute_result"
    }
   ],
   "source": [
    "X.shape"
   ]
  },
  {
   "cell_type": "code",
   "execution_count": 9,
   "metadata": {},
   "outputs": [
    {
     "data": {
      "text/plain": [
       "(208,)"
      ]
     },
     "execution_count": 9,
     "metadata": {},
     "output_type": "execute_result"
    }
   ],
   "source": [
    "Y.shape"
   ]
  },
  {
   "cell_type": "code",
   "execution_count": 10,
   "metadata": {},
   "outputs": [
    {
     "data": {
      "text/plain": [
       "array([0.0629, 0.1065, 0.1526, 0.1229, 0.1437, 0.119 , 0.0884, 0.0907,\n",
       "       0.2107, 0.3597, 0.5466, 0.5205, 0.5127, 0.5395, 0.6558, 0.8705,\n",
       "       0.9786, 0.9335, 0.7917, 0.7383, 0.6908, 0.385 , 0.0671, 0.0502,\n",
       "       0.2717, 0.2839, 0.2234, 0.1911, 0.0408, 0.2531, 0.1979, 0.1891,\n",
       "       0.2433, 0.1956, 0.2667, 0.134 , 0.1073, 0.2023, 0.1794, 0.0227,\n",
       "       0.1313, 0.1775, 0.1549, 0.1626, 0.0708, 0.0129, 0.0795, 0.0762,\n",
       "       0.0117, 0.0061, 0.0257, 0.0089, 0.0262, 0.0108, 0.0138, 0.0187,\n",
       "       0.023 , 0.0057, 0.0113, 0.0131])"
      ]
     },
     "execution_count": 10,
     "metadata": {},
     "output_type": "execute_result"
    }
   ],
   "source": [
    "X[100]"
   ]
  },
  {
   "cell_type": "code",
   "execution_count": 12,
   "metadata": {},
   "outputs": [
    {
     "data": {
      "text/plain": [
       "208"
      ]
     },
     "execution_count": 12,
     "metadata": {},
     "output_type": "execute_result"
    }
   ],
   "source": [
    "len(encoded_Y)"
   ]
  },
  {
   "cell_type": "code",
   "execution_count": 13,
   "metadata": {},
   "outputs": [
    {
     "data": {
      "text/plain": [
       "208"
      ]
     },
     "execution_count": 13,
     "metadata": {},
     "output_type": "execute_result"
    }
   ],
   "source": [
    "len(X)"
   ]
  },
  {
   "cell_type": "code",
   "execution_count": 14,
   "metadata": {},
   "outputs": [
    {
     "data": {
      "text/plain": [
       "array([[0.02  , 0.0371, 0.0428, ..., 0.0084, 0.009 , 0.0032],\n",
       "       [0.0453, 0.0523, 0.0843, ..., 0.0049, 0.0052, 0.0044],\n",
       "       [0.0262, 0.0582, 0.1099, ..., 0.0164, 0.0095, 0.0078],\n",
       "       ...,\n",
       "       [0.0522, 0.0437, 0.018 , ..., 0.0138, 0.0077, 0.0031],\n",
       "       [0.0303, 0.0353, 0.049 , ..., 0.0079, 0.0036, 0.0048],\n",
       "       [0.026 , 0.0363, 0.0136, ..., 0.0036, 0.0061, 0.0115]])"
      ]
     },
     "execution_count": 14,
     "metadata": {},
     "output_type": "execute_result"
    }
   ],
   "source": [
    "X"
   ]
  },
  {
   "cell_type": "code",
   "execution_count": 28,
   "metadata": {
    "scrolled": true
   },
   "outputs": [
    {
     "data": {
      "text/plain": [
       "array([[0.02  , 0.0371, 0.0428, 0.0207, 0.0954, 0.0986, 0.1539, 0.1601,\n",
       "        0.3109, 0.2111, 0.1609, 0.1582, 0.2238, 0.0645, 0.066 , 0.2273,\n",
       "        0.31  , 0.2999, 0.5078, 0.4797, 0.5783, 0.5071, 0.4328, 0.555 ,\n",
       "        0.6711, 0.6415, 0.7104, 0.808 , 0.6791, 0.3857, 0.1307, 0.2604,\n",
       "        0.5121, 0.7547, 0.8537, 0.8507, 0.6692, 0.6097, 0.4943, 0.2744,\n",
       "        0.051 , 0.2834, 0.2825, 0.4256, 0.2641, 0.1386, 0.1051, 0.1343,\n",
       "        0.0383, 0.0324, 0.0232, 0.0027, 0.0065, 0.0159, 0.0072, 0.0167,\n",
       "        0.018 , 0.0084, 0.009 , 0.0032],\n",
       "       [0.0453, 0.0523, 0.0843, 0.0689, 0.1183, 0.2583, 0.2156, 0.3481,\n",
       "        0.3337, 0.2872, 0.4918, 0.6552, 0.6919, 0.7797, 0.7464, 0.9444,\n",
       "        1.    , 0.8874, 0.8024, 0.7818, 0.5212, 0.4052, 0.3957, 0.3914,\n",
       "        0.325 , 0.32  , 0.3271, 0.2767, 0.4423, 0.2028, 0.3788, 0.2947,\n",
       "        0.1984, 0.2341, 0.1306, 0.4182, 0.3835, 0.1057, 0.184 , 0.197 ,\n",
       "        0.1674, 0.0583, 0.1401, 0.1628, 0.0621, 0.0203, 0.053 , 0.0742,\n",
       "        0.0409, 0.0061, 0.0125, 0.0084, 0.0089, 0.0048, 0.0094, 0.0191,\n",
       "        0.014 , 0.0049, 0.0052, 0.0044],\n",
       "       [0.0262, 0.0582, 0.1099, 0.1083, 0.0974, 0.228 , 0.2431, 0.3771,\n",
       "        0.5598, 0.6194, 0.6333, 0.706 , 0.5544, 0.532 , 0.6479, 0.6931,\n",
       "        0.6759, 0.7551, 0.8929, 0.8619, 0.7974, 0.6737, 0.4293, 0.3648,\n",
       "        0.5331, 0.2413, 0.507 , 0.8533, 0.6036, 0.8514, 0.8512, 0.5045,\n",
       "        0.1862, 0.2709, 0.4232, 0.3043, 0.6116, 0.6756, 0.5375, 0.4719,\n",
       "        0.4647, 0.2587, 0.2129, 0.2222, 0.2111, 0.0176, 0.1348, 0.0744,\n",
       "        0.013 , 0.0106, 0.0033, 0.0232, 0.0166, 0.0095, 0.018 , 0.0244,\n",
       "        0.0316, 0.0164, 0.0095, 0.0078],\n",
       "       [0.01  , 0.0171, 0.0623, 0.0205, 0.0205, 0.0368, 0.1098, 0.1276,\n",
       "        0.0598, 0.1264, 0.0881, 0.1992, 0.0184, 0.2261, 0.1729, 0.2131,\n",
       "        0.0693, 0.2281, 0.406 , 0.3973, 0.2741, 0.369 , 0.5556, 0.4846,\n",
       "        0.314 , 0.5334, 0.5256, 0.252 , 0.209 , 0.3559, 0.626 , 0.734 ,\n",
       "        0.612 , 0.3497, 0.3953, 0.3012, 0.5408, 0.8814, 0.9857, 0.9167,\n",
       "        0.6121, 0.5006, 0.321 , 0.3202, 0.4295, 0.3654, 0.2655, 0.1576,\n",
       "        0.0681, 0.0294, 0.0241, 0.0121, 0.0036, 0.015 , 0.0085, 0.0073,\n",
       "        0.005 , 0.0044, 0.004 , 0.0117],\n",
       "       [0.0762, 0.0666, 0.0481, 0.0394, 0.059 , 0.0649, 0.1209, 0.2467,\n",
       "        0.3564, 0.4459, 0.4152, 0.3952, 0.4256, 0.4135, 0.4528, 0.5326,\n",
       "        0.7306, 0.6193, 0.2032, 0.4636, 0.4148, 0.4292, 0.573 , 0.5399,\n",
       "        0.3161, 0.2285, 0.6995, 1.    , 0.7262, 0.4724, 0.5103, 0.5459,\n",
       "        0.2881, 0.0981, 0.1951, 0.4181, 0.4604, 0.3217, 0.2828, 0.243 ,\n",
       "        0.1979, 0.2444, 0.1847, 0.0841, 0.0692, 0.0528, 0.0357, 0.0085,\n",
       "        0.023 , 0.0046, 0.0156, 0.0031, 0.0054, 0.0105, 0.011 , 0.0015,\n",
       "        0.0072, 0.0048, 0.0107, 0.0094]])"
      ]
     },
     "execution_count": 28,
     "metadata": {},
     "output_type": "execute_result"
    }
   ],
   "source": [
    "X[:5]"
   ]
  },
  {
   "cell_type": "code",
   "execution_count": 35,
   "metadata": {},
   "outputs": [
    {
     "data": {
      "text/plain": [
       "(208, 61)"
      ]
     },
     "execution_count": 35,
     "metadata": {},
     "output_type": "execute_result"
    }
   ],
   "source": [
    "dataset.shape"
   ]
  },
  {
   "cell_type": "code",
   "execution_count": null,
   "metadata": {},
   "outputs": [],
   "source": []
  }
 ],
 "metadata": {
  "colab": {
   "name": "DL_1st_Project-Sonar-Dataset.ipynb",
   "provenance": []
  },
  "kernelspec": {
   "display_name": "Python 3",
   "language": "python",
   "name": "python3"
  },
  "language_info": {
   "codemirror_mode": {
    "name": "ipython",
    "version": 3
   },
   "file_extension": ".py",
   "mimetype": "text/x-python",
   "name": "python",
   "nbconvert_exporter": "python",
   "pygments_lexer": "ipython3",
   "version": "3.7.3"
  }
 },
 "nbformat": 4,
 "nbformat_minor": 1
}
